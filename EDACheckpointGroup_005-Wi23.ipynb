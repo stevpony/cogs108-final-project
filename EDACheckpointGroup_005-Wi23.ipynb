{
 "cells": [
  {
   "cell_type": "markdown",
   "metadata": {},
   "source": [
    "# COGS 108 - EDA Checkpoint"
   ]
  },
  {
   "cell_type": "markdown",
   "metadata": {},
   "source": [
    "# Names\n",
    "\n",
    "- Jennifer Jiang\n",
    "- Hannah Ordonez\n",
    "- Daniela Garcia \n",
    "- Ghada Barhoush\n",
    "- Stephanie Li\n",
    "- Cynthia Delira\n"
   ]
  },
  {
   "cell_type": "markdown",
   "metadata": {},
   "source": [
    "<a id='research_question'></a>\n",
    "# Research Question"
   ]
  },
  {
   "cell_type": "markdown",
   "metadata": {},
   "source": [
    "> *How might the experiences of women and men differ in tech in terms of mental health issues/comfortability of discussing mental health issues?*"
   ]
  },
  {
   "cell_type": "markdown",
   "metadata": {},
   "source": [
    "# Setup"
   ]
  },
  {
   "cell_type": "code",
   "execution_count": 1,
   "metadata": {},
   "outputs": [],
   "source": [
    "import pandas as pd\n",
    "import numpy as np\n",
    "import os\n",
    "import re\n",
    "import sklearn\n",
    "import seaborn as sns\n",
    "import matplotlib.pyplot as plt\n",
    "import plotly.express as px"
   ]
  },
  {
   "cell_type": "code",
   "execution_count": 2,
   "metadata": {},
   "outputs": [],
   "source": [
    "# tech_data_fp = os.path.join('data', 'survey.csv')\n",
    "tech_data = pd.read_csv('data/survey.csv')"
   ]
  },
  {
   "cell_type": "markdown",
   "metadata": {},
   "source": [
    "# Data Cleaning"
   ]
  },
  {
   "cell_type": "code",
   "execution_count": 3,
   "metadata": {},
   "outputs": [],
   "source": [
    "#Dropping Columns that are not necessary for analysis\n",
    "\n",
    "tech_data = tech_data.drop(columns = ['Timestamp', 'state','wellness_program',\\\n",
    "                                      'seek_help', 'anonymity', 'phys_health_consequence',\\\n",
    "                                      'coworkers', 'supervisor', 'mental_health_interview',\\\n",
    "                                      'phys_health_interview', 'mental_vs_physical', 'comments'])\n",
    "\n",
    "\n",
    "\n"
   ]
  },
  {
   "cell_type": "code",
   "execution_count": 4,
   "metadata": {},
   "outputs": [],
   "source": [
    "#Renaming Columns for Ease of Understanding\n",
    "tech_data.columns = ['Age', 'Gender', 'Country', 'Self Employed',\\\n",
    "                     'Family History', 'Sought Treatment', 'Work Interfere',\\\n",
    "                    'Number Employees', 'Work Remotely', 'Tech Company',\\\n",
    "                    'Offer Benefits', 'Knowledge of Care Options', 'How Easy to take Medical Leave',\\\n",
    "                    'Mental Health Consequences', 'Observed Consequences']\n",
    "\n",
    "\n",
    "\n",
    "\n",
    "\n",
    "\n"
   ]
  },
  {
   "cell_type": "code",
   "execution_count": 5,
   "metadata": {},
   "outputs": [],
   "source": [
    "#Remove upper and lower .05% of Ages to filter out outliers\n",
    "lower = tech_data['Age'].quantile(.005)\n",
    "\n",
    "upper = tech_data['Age'].quantile(.995)\n",
    "\n",
    "tech_data = tech_data[(tech_data['Age']>=lower) & (tech_data['Age']<=upper)]"
   ]
  },
  {
   "cell_type": "code",
   "execution_count": 6,
   "metadata": {},
   "outputs": [],
   "source": [
    "#Taking care of most gender inputs\n",
    "gender_expression = lambda x: re.sub(r'^Male|^male|^.* Male|^.* male|M |^m$| M', 'M', x)\n",
    "gender_expression2 = lambda x: re.sub(r'Female|female|^f$|Woman|Female[.]*|cis-female/femme|Female (trans)|Female (cis)|woman|Femake|Cis Female|Trans-female|queer/she/they| F|F ', 'F', x)\n",
    "\n",
    "tech_data['Gender'] =(tech_data['Gender'].apply(gender_expression)).apply(gender_expression2)"
   ]
  },
  {
   "cell_type": "code",
   "execution_count": 7,
   "metadata": {},
   "outputs": [],
   "source": [
    "for_replacement = ['M', 'M', 'M', 'M',\\\n",
    "                   'M', 'NB', 'M', 'NB',\\\n",
    "                   'NB', 'NB', 'NB', 'F',\\\n",
    "                   'M', 'NB', 'NB', 'M', \\\n",
    "                   'M', 'M', 'M', 'M',\\\n",
    "                   'M', 'F', 'M', 'M',\\\n",
    "                   'NB', 'F', 'NB', 'F',\\\n",
    "                   'M', 'F', 'F', 'M',\\\n",
    "                   'M', 'F', 'M', 'M',\\\n",
    "                   'M']\n",
    "    "
   ]
  },
  {
   "cell_type": "code",
   "execution_count": 8,
   "metadata": {
    "scrolled": false
   },
   "outputs": [
    {
     "name": "stderr",
     "output_type": "stream",
     "text": [
      "/var/folders/7g/5dngg9xn7pxb7j2xdsxfbldr0000gp/T/ipykernel_46703/3636781357.py:4: SettingWithCopyWarning: \n",
      "A value is trying to be set on a copy of a slice from a DataFrame\n",
      "\n",
      "See the caveats in the documentation: https://pandas.pydata.org/pandas-docs/stable/user_guide/indexing.html#returning-a-view-versus-a-copy\n",
      "  tech_data['Gender'].loc[i] = for_replacement[counter]\n"
     ]
    }
   ],
   "source": [
    "#takes care of the rest of the gender inputs\n",
    "counter = 0\n",
    "for i in tech_data[(tech_data['Gender']!= 'M') & (tech_data['Gender']!='F')]['Gender'].index:\n",
    "    tech_data['Gender'].loc[i] = for_replacement[counter]\n",
    "    counter +=1"
   ]
  },
  {
   "cell_type": "code",
   "execution_count": 9,
   "metadata": {},
   "outputs": [],
   "source": [
    "#one-hot encoding of strictly yes/no columns for ease of computation\n",
    "tech_data[['Self Employed', 'Family History', 'Sought Treatment',\\\n",
    "           'Work Remotely', 'Tech Company', 'Observed Consequences']] \\\n",
    "= tech_data[['Self Employed', 'Family History', 'Sought Treatment', \\\n",
    "             'Work Remotely', 'Tech Company', 'Observed Consequences']]\\\n",
    ".replace('Yes', 1).replace('No', 0)\n",
    "\n",
    "\n"
   ]
  },
  {
   "cell_type": "code",
   "execution_count": 10,
   "metadata": {},
   "outputs": [],
   "source": [
    "# Ordering columns for ease of interpretation\n",
    "ordered_columns = ['Age', 'Gender', 'Country', 'Number Employees',\\\n",
    "                   'Work Interfere', 'Offer Benefits', 'Knowledge of Care Options',\\\n",
    "                  'How Easy to take Medical Leave', 'Mental Health Consequences',\\\n",
    "                  'Self Employed', 'Family History', 'Sought Treatment', 'Work Remotely', 'Tech Company',\\\n",
    "                  'Observed Consequences']\n",
    "\n",
    "tech_data = tech_data[ordered_columns]"
   ]
  },
  {
   "cell_type": "code",
   "execution_count": 11,
   "metadata": {},
   "outputs": [],
   "source": [
    "tech_data = tech_data.reset_index().drop(columns = 'index')"
   ]
  },
  {
   "cell_type": "code",
   "execution_count": 12,
   "metadata": {},
   "outputs": [],
   "source": [
    "tech_data = tech_data[tech_data['Tech Company']!=0]"
   ]
  },
  {
   "cell_type": "code",
   "execution_count": 13,
   "metadata": {},
   "outputs": [],
   "source": [
    "tech_data = tech_data.drop(columns = 'Tech Company')"
   ]
  },
  {
   "cell_type": "code",
   "execution_count": 14,
   "metadata": {},
   "outputs": [
    {
     "data": {
      "text/plain": [
       "array(['Often', 'Rarely', 'Never', 'Sometimes', nan], dtype=object)"
      ]
     },
     "execution_count": 14,
     "metadata": {},
     "output_type": "execute_result"
    }
   ],
   "source": [
    "tech_data['Work Interfere'].unique()"
   ]
  },
  {
   "cell_type": "code",
   "execution_count": 15,
   "metadata": {},
   "outputs": [],
   "source": [
    "def ord_encoder_interfere(string):\n",
    "    if string == 'Often':\n",
    "        return 4\n",
    "    elif string == 'Sometimes':\n",
    "        return 3\n",
    "    elif string=='Rarely':\n",
    "        return 2\n",
    "    elif string == 'Never':\n",
    "        return 1"
   ]
  },
  {
   "cell_type": "code",
   "execution_count": 16,
   "metadata": {},
   "outputs": [],
   "source": [
    "def ord_encoder_consequence(string):\n",
    "    if string == 'No':\n",
    "        return -1\n",
    "    elif string == 'Maybe':\n",
    "        return 0\n",
    "    elif string == 'Yes':\n",
    "        return 1"
   ]
  },
  {
   "cell_type": "code",
   "execution_count": 17,
   "metadata": {},
   "outputs": [],
   "source": [
    "tech_data['Work Interfere Ordinal'] = tech_data['Work Interfere'].apply(ord_encoder_interfere)"
   ]
  },
  {
   "cell_type": "code",
   "execution_count": 18,
   "metadata": {},
   "outputs": [],
   "source": [
    "tech_data['Mental Health Consequences Ordinal'] = tech_data['Mental Health Consequences'].apply(ord_encoder_consequence)"
   ]
  },
  {
   "cell_type": "markdown",
   "metadata": {},
   "source": [
    "# Data Analysis & Results (EDA)"
   ]
  },
  {
   "cell_type": "markdown",
   "metadata": {},
   "source": [
    "## Comparing Levels of Mental Health Work Interference and Gender"
   ]
  },
  {
   "cell_type": "markdown",
   "metadata": {},
   "source": [
    "This section focuses on comparing the survey participants' responses to the question: \"If you have a mental health condition, do you feel that it interferes with your work?\" \n",
    "\n",
    "The column ```'Work Interfere Ordinal'``` in the ```tech_data``` dataframe maps each level of perceived mental health work interference to a specific ordinal number: 'Never' to 1.0, 'Rarely' to 2.0, 'Sometimes' to 3.0, and 'Often' to 4.0. \n",
    "\n",
    "We analyze the data in a few different methods, first looking at counting numbers of male, female, and nonbinary employees' levels of mental health work interference, then comparing the proportion of each level of mental health work interference reported by different genders, and finally comparing the average reported level of mental health work interference by gender.\n",
    "\n",
    "There are no outliers present in our data because for the work interference question, the participants were given predefined answer choices to choose from, thus maintaining consistency in their answers. However, we noted that amongst the participants, there are a significantly higher number of male (637) participants in comparison to female (163) and non-binary participants (8). "
   ]
  },
  {
   "cell_type": "code",
   "execution_count": 19,
   "metadata": {},
   "outputs": [],
   "source": [
    "work_interference = tech_data[['Gender', 'Work Interfere Ordinal']]\n",
    "work_interference = work_interference.dropna(subset = ['Work Interfere Ordinal'])\n",
    "work_interference = work_interference.reset_index(drop = True)"
   ]
  },
  {
   "cell_type": "code",
   "execution_count": 20,
   "metadata": {
    "scrolled": true
   },
   "outputs": [
    {
     "data": {
      "text/html": [
       "<div>\n",
       "<style scoped>\n",
       "    .dataframe tbody tr th:only-of-type {\n",
       "        vertical-align: middle;\n",
       "    }\n",
       "\n",
       "    .dataframe tbody tr th {\n",
       "        vertical-align: top;\n",
       "    }\n",
       "\n",
       "    .dataframe thead th {\n",
       "        text-align: right;\n",
       "    }\n",
       "</style>\n",
       "<table border=\"1\" class=\"dataframe\">\n",
       "  <thead>\n",
       "    <tr style=\"text-align: right;\">\n",
       "      <th></th>\n",
       "      <th>Gender</th>\n",
       "      <th>Work Interfere Ordinal</th>\n",
       "    </tr>\n",
       "  </thead>\n",
       "  <tbody>\n",
       "    <tr>\n",
       "      <th>0</th>\n",
       "      <td>F</td>\n",
       "      <td>4.0</td>\n",
       "    </tr>\n",
       "    <tr>\n",
       "      <th>1</th>\n",
       "      <td>M</td>\n",
       "      <td>2.0</td>\n",
       "    </tr>\n",
       "    <tr>\n",
       "      <th>2</th>\n",
       "      <td>M</td>\n",
       "      <td>4.0</td>\n",
       "    </tr>\n",
       "    <tr>\n",
       "      <th>3</th>\n",
       "      <td>M</td>\n",
       "      <td>1.0</td>\n",
       "    </tr>\n",
       "    <tr>\n",
       "      <th>4</th>\n",
       "      <td>M</td>\n",
       "      <td>3.0</td>\n",
       "    </tr>\n",
       "    <tr>\n",
       "      <th>...</th>\n",
       "      <td>...</td>\n",
       "      <td>...</td>\n",
       "    </tr>\n",
       "    <tr>\n",
       "      <th>803</th>\n",
       "      <td>M</td>\n",
       "      <td>3.0</td>\n",
       "    </tr>\n",
       "    <tr>\n",
       "      <th>804</th>\n",
       "      <td>M</td>\n",
       "      <td>4.0</td>\n",
       "    </tr>\n",
       "    <tr>\n",
       "      <th>805</th>\n",
       "      <td>M</td>\n",
       "      <td>3.0</td>\n",
       "    </tr>\n",
       "    <tr>\n",
       "      <th>806</th>\n",
       "      <td>M</td>\n",
       "      <td>4.0</td>\n",
       "    </tr>\n",
       "    <tr>\n",
       "      <th>807</th>\n",
       "      <td>M</td>\n",
       "      <td>3.0</td>\n",
       "    </tr>\n",
       "  </tbody>\n",
       "</table>\n",
       "<p>808 rows × 2 columns</p>\n",
       "</div>"
      ],
      "text/plain": [
       "    Gender  Work Interfere Ordinal\n",
       "0        F                     4.0\n",
       "1        M                     2.0\n",
       "2        M                     4.0\n",
       "3        M                     1.0\n",
       "4        M                     3.0\n",
       "..     ...                     ...\n",
       "803      M                     3.0\n",
       "804      M                     4.0\n",
       "805      M                     3.0\n",
       "806      M                     4.0\n",
       "807      M                     3.0\n",
       "\n",
       "[808 rows x 2 columns]"
      ]
     },
     "execution_count": 20,
     "metadata": {},
     "output_type": "execute_result"
    }
   ],
   "source": [
    "# df of all gender and non-null work interference survey responses\n",
    "# used for Fig. 1 visualization\n",
    "work_interference"
   ]
  },
  {
   "cell_type": "code",
   "execution_count": 21,
   "metadata": {},
   "outputs": [],
   "source": [
    "prop_work_int = work_interference[['Gender', 'Work Interfere Ordinal']].value_counts().reset_index(name='Proportion')\n",
    "prop_work_int = prop_work_int.sort_values(by = ['Gender', 'Work Interfere Ordinal'])\n",
    "prop_work_int = prop_work_int.reset_index(drop = True)\n",
    "\n",
    "def count_total(start_idx, end_idx):\n",
    "    total = 0\n",
    "    for i in range(start_idx, end_idx):\n",
    "        total += prop_work_int.at[i, 'Proportion']\n",
    "    return total\n",
    "\n",
    "total_f = count_total(0, 4)\n",
    "total_m = count_total(4, 8)\n",
    "total_nb = count_total(8, 11)\n",
    "\n",
    "def set_prop(start_idx, end_idx, total):\n",
    "    for i in range(start_idx, end_idx):\n",
    "        prop_work_int.at[i, 'Proportion'] /= total\n",
    "\n",
    "set_prop(0, 4, total_f)\n",
    "set_prop(4, 8, total_m)\n",
    "set_prop(8, 11, total_nb)"
   ]
  },
  {
   "cell_type": "code",
   "execution_count": 22,
   "metadata": {},
   "outputs": [
    {
     "data": {
      "text/html": [
       "<div>\n",
       "<style scoped>\n",
       "    .dataframe tbody tr th:only-of-type {\n",
       "        vertical-align: middle;\n",
       "    }\n",
       "\n",
       "    .dataframe tbody tr th {\n",
       "        vertical-align: top;\n",
       "    }\n",
       "\n",
       "    .dataframe thead th {\n",
       "        text-align: right;\n",
       "    }\n",
       "</style>\n",
       "<table border=\"1\" class=\"dataframe\">\n",
       "  <thead>\n",
       "    <tr style=\"text-align: right;\">\n",
       "      <th></th>\n",
       "      <th>Gender</th>\n",
       "      <th>Work Interfere Ordinal</th>\n",
       "      <th>Proportion</th>\n",
       "    </tr>\n",
       "  </thead>\n",
       "  <tbody>\n",
       "    <tr>\n",
       "      <th>0</th>\n",
       "      <td>F</td>\n",
       "      <td>1.0</td>\n",
       "      <td>0.104294</td>\n",
       "    </tr>\n",
       "    <tr>\n",
       "      <th>1</th>\n",
       "      <td>F</td>\n",
       "      <td>2.0</td>\n",
       "      <td>0.220859</td>\n",
       "    </tr>\n",
       "    <tr>\n",
       "      <th>2</th>\n",
       "      <td>F</td>\n",
       "      <td>3.0</td>\n",
       "      <td>0.527607</td>\n",
       "    </tr>\n",
       "    <tr>\n",
       "      <th>3</th>\n",
       "      <td>F</td>\n",
       "      <td>4.0</td>\n",
       "      <td>0.147239</td>\n",
       "    </tr>\n",
       "    <tr>\n",
       "      <th>4</th>\n",
       "      <td>M</td>\n",
       "      <td>1.0</td>\n",
       "      <td>0.248038</td>\n",
       "    </tr>\n",
       "    <tr>\n",
       "      <th>5</th>\n",
       "      <td>M</td>\n",
       "      <td>2.0</td>\n",
       "      <td>0.156986</td>\n",
       "    </tr>\n",
       "    <tr>\n",
       "      <th>6</th>\n",
       "      <td>M</td>\n",
       "      <td>3.0</td>\n",
       "      <td>0.461538</td>\n",
       "    </tr>\n",
       "    <tr>\n",
       "      <th>7</th>\n",
       "      <td>M</td>\n",
       "      <td>4.0</td>\n",
       "      <td>0.133438</td>\n",
       "    </tr>\n",
       "    <tr>\n",
       "      <th>8</th>\n",
       "      <td>NB</td>\n",
       "      <td>1.0</td>\n",
       "      <td>0.125000</td>\n",
       "    </tr>\n",
       "    <tr>\n",
       "      <th>9</th>\n",
       "      <td>NB</td>\n",
       "      <td>2.0</td>\n",
       "      <td>0.125000</td>\n",
       "    </tr>\n",
       "    <tr>\n",
       "      <th>10</th>\n",
       "      <td>NB</td>\n",
       "      <td>3.0</td>\n",
       "      <td>0.750000</td>\n",
       "    </tr>\n",
       "  </tbody>\n",
       "</table>\n",
       "</div>"
      ],
      "text/plain": [
       "   Gender  Work Interfere Ordinal  Proportion\n",
       "0       F                     1.0    0.104294\n",
       "1       F                     2.0    0.220859\n",
       "2       F                     3.0    0.527607\n",
       "3       F                     4.0    0.147239\n",
       "4       M                     1.0    0.248038\n",
       "5       M                     2.0    0.156986\n",
       "6       M                     3.0    0.461538\n",
       "7       M                     4.0    0.133438\n",
       "8      NB                     1.0    0.125000\n",
       "9      NB                     2.0    0.125000\n",
       "10     NB                     3.0    0.750000"
      ]
     },
     "execution_count": 22,
     "metadata": {},
     "output_type": "execute_result"
    }
   ],
   "source": [
    "# df of proportions of gender against mental health work interference\n",
    "prop_work_int"
   ]
  },
  {
   "cell_type": "code",
   "execution_count": 23,
   "metadata": {},
   "outputs": [],
   "source": [
    "data1 = [['F', 0.104294, 0.220859, 0.527607, 0.147239],\n",
    "        ['M', 0.248038, 0.156986, 0.461538, 0.133438],\n",
    "        ['NB', 0.125000, 0.125000, 0.750000, 0.000000]]\n",
    "prop_work_int2 = pd.DataFrame(data1, columns=['Gender', '1.0', '2.0', '3.0', '4.0'])"
   ]
  },
  {
   "cell_type": "code",
   "execution_count": 24,
   "metadata": {},
   "outputs": [
    {
     "data": {
      "text/html": [
       "<div>\n",
       "<style scoped>\n",
       "    .dataframe tbody tr th:only-of-type {\n",
       "        vertical-align: middle;\n",
       "    }\n",
       "\n",
       "    .dataframe tbody tr th {\n",
       "        vertical-align: top;\n",
       "    }\n",
       "\n",
       "    .dataframe thead th {\n",
       "        text-align: right;\n",
       "    }\n",
       "</style>\n",
       "<table border=\"1\" class=\"dataframe\">\n",
       "  <thead>\n",
       "    <tr style=\"text-align: right;\">\n",
       "      <th></th>\n",
       "      <th>Gender</th>\n",
       "      <th>1.0</th>\n",
       "      <th>2.0</th>\n",
       "      <th>3.0</th>\n",
       "      <th>4.0</th>\n",
       "    </tr>\n",
       "  </thead>\n",
       "  <tbody>\n",
       "    <tr>\n",
       "      <th>0</th>\n",
       "      <td>F</td>\n",
       "      <td>0.104294</td>\n",
       "      <td>0.220859</td>\n",
       "      <td>0.527607</td>\n",
       "      <td>0.147239</td>\n",
       "    </tr>\n",
       "    <tr>\n",
       "      <th>1</th>\n",
       "      <td>M</td>\n",
       "      <td>0.248038</td>\n",
       "      <td>0.156986</td>\n",
       "      <td>0.461538</td>\n",
       "      <td>0.133438</td>\n",
       "    </tr>\n",
       "    <tr>\n",
       "      <th>2</th>\n",
       "      <td>NB</td>\n",
       "      <td>0.125000</td>\n",
       "      <td>0.125000</td>\n",
       "      <td>0.750000</td>\n",
       "      <td>0.000000</td>\n",
       "    </tr>\n",
       "  </tbody>\n",
       "</table>\n",
       "</div>"
      ],
      "text/plain": [
       "  Gender       1.0       2.0       3.0       4.0\n",
       "0      F  0.104294  0.220859  0.527607  0.147239\n",
       "1      M  0.248038  0.156986  0.461538  0.133438\n",
       "2     NB  0.125000  0.125000  0.750000  0.000000"
      ]
     },
     "execution_count": 24,
     "metadata": {},
     "output_type": "execute_result"
    }
   ],
   "source": [
    "# df reorganizing proportions of gender against mental health work interference\n",
    "# used for Fig. 2 data visualization\n",
    "prop_work_int2"
   ]
  },
  {
   "cell_type": "code",
   "execution_count": 26,
   "metadata": {},
   "outputs": [],
   "source": [
    "def average(start_idx, end_idx):\n",
    "    sum_whatever = 0\n",
    "    total_gender = 0\n",
    "    for i in range(start_idx, end_idx):\n",
    "        total_gender += prop_work_int.at[i, 'Proportion']\n",
    "        sum_whatever += prop_work_int.at[i, 'Work Interfere Ordinal'] * prop_work_int.at[i, 'Proportion']\n",
    "    return sum_whatever/total_gender\n",
    "\n",
    "average_f = average(0, 4)\n",
    "average_m = average(4, 8)\n",
    "average_nb = average(9, 11)"
   ]
  },
  {
   "cell_type": "code",
   "execution_count": 27,
   "metadata": {},
   "outputs": [],
   "source": [
    "data2 = [['F', average_f], ['M', average_m], ['NB', average_nb]]\n",
    "average_work_int = pd.DataFrame(data2, columns=['Gender', 'Average Work Interference Ordinal'])"
   ]
  },
  {
   "cell_type": "code",
   "execution_count": 28,
   "metadata": {},
   "outputs": [
    {
     "data": {
      "text/html": [
       "<div>\n",
       "<style scoped>\n",
       "    .dataframe tbody tr th:only-of-type {\n",
       "        vertical-align: middle;\n",
       "    }\n",
       "\n",
       "    .dataframe tbody tr th {\n",
       "        vertical-align: top;\n",
       "    }\n",
       "\n",
       "    .dataframe thead th {\n",
       "        text-align: right;\n",
       "    }\n",
       "</style>\n",
       "<table border=\"1\" class=\"dataframe\">\n",
       "  <thead>\n",
       "    <tr style=\"text-align: right;\">\n",
       "      <th></th>\n",
       "      <th>Gender</th>\n",
       "      <th>Average Work Interference Ordinal</th>\n",
       "    </tr>\n",
       "  </thead>\n",
       "  <tbody>\n",
       "    <tr>\n",
       "      <th>0</th>\n",
       "      <td>F</td>\n",
       "      <td>2.717791</td>\n",
       "    </tr>\n",
       "    <tr>\n",
       "      <th>1</th>\n",
       "      <td>M</td>\n",
       "      <td>2.480377</td>\n",
       "    </tr>\n",
       "    <tr>\n",
       "      <th>2</th>\n",
       "      <td>NB</td>\n",
       "      <td>2.857143</td>\n",
       "    </tr>\n",
       "  </tbody>\n",
       "</table>\n",
       "</div>"
      ],
      "text/plain": [
       "  Gender  Average Work Interference Ordinal\n",
       "0      F                           2.717791\n",
       "1      M                           2.480377\n",
       "2     NB                           2.857143"
      ]
     },
     "execution_count": 28,
     "metadata": {},
     "output_type": "execute_result"
    }
   ],
   "source": [
    "# df comparing gender and average level of mental health work interference\n",
    "# used for Fig. 3 data visualization\n",
    "average_work_int"
   ]
  },
  {
   "cell_type": "markdown",
   "metadata": {},
   "source": [
    "### Figure 1"
   ]
  },
  {
   "cell_type": "markdown",
   "metadata": {},
   "source": [
    "This bar graph compares numbers of female, male, and non-binary employees by levels of mental health work interference."
   ]
  },
  {
   "cell_type": "code",
   "execution_count": 29,
   "metadata": {
    "scrolled": false
   },
   "outputs": [
    {
     "data": {
      "text/plain": [
       "<AxesSubplot:xlabel='Work Interfere Ordinal', ylabel='count'>"
      ]
     },
     "execution_count": 29,
     "metadata": {},
     "output_type": "execute_result"
    },
    {
     "data": {
      "image/png": "[encoded data removed]",
      "text/plain": [
       "<Figure size 640x480 with 1 Axes>"
      ]
     },
     "metadata": {},
     "output_type": "display_data"
    }
   ],
   "source": [
    "sns.countplot(data = work_interference, x = \"Work Interfere Ordinal\", hue = \"Gender\")"
   ]
  },
  {
   "cell_type": "markdown",
   "metadata": {},
   "source": [
    "### Figure 2"
   ]
  },
  {
   "cell_type": "markdown",
   "metadata": {},
   "source": [
    "This stacked bar plot compares proportions of perceived level of mental health and work interference among female, male, and non-binary employees."
   ]
  },
  {
   "cell_type": "code",
   "execution_count": 30,
   "metadata": {
    "scrolled": false
   },
   "outputs": [
    {
     "data": {
      "text/plain": [
       "<function matplotlib.pyplot.show(close=None, block=None)>"
      ]
     },
     "execution_count": 30,
     "metadata": {},
     "output_type": "execute_result"
    },
    {
     "data": {
      "image/png": "[encoded data removed]",
      "text/plain": [
       "<Figure size 640x480 with 1 Axes>"
      ]
     },
     "metadata": {},
     "output_type": "display_data"
    }
   ],
   "source": [
    "plot = prop_work_int2.set_index('Gender').plot(kind='bar', stacked=True, color=['red','yellow', 'pink', 'orange'])\n",
    "plot.set_xticklabels(plot.get_xticklabels(), rotation=0, ha=\"right\")\n",
    "plt.show"
   ]
  },
  {
   "cell_type": "markdown",
   "metadata": {},
   "source": [
    "### Figure 3"
   ]
  },
  {
   "cell_type": "markdown",
   "metadata": {},
   "source": [
    "This barplot compares averages of perceived mental health work interference among female, male, and non-binary employees."
   ]
  },
  {
   "cell_type": "code",
   "execution_count": 31,
   "metadata": {},
   "outputs": [
    {
     "data": {
      "text/plain": [
       "<AxesSubplot:xlabel='Gender', ylabel='Average Work Interference Ordinal'>"
      ]
     },
     "execution_count": 31,
     "metadata": {},
     "output_type": "execute_result"
    },
    {
     "data": {
      "image/png": "[encoded data removed]",
      "text/plain": [
       "<Figure size 640x480 with 1 Axes>"
      ]
     },
     "metadata": {},
     "output_type": "display_data"
    }
   ],
   "source": [
    "sns.barplot(data = average_work_int, x='Gender', y='Average Work Interference Ordinal')"
   ]
  },
  {
   "cell_type": "markdown",
   "metadata": {},
   "source": [
    "For Figure 1, we created a bar plot that shows the number of responses for each level of perceived mental health work interference by gender group. This led to a bar plot that was not particularly helpful in determining if there was any correlation between gender and mental health work interference, as the large number of male participants caused the number of female and non binary participant responses to appear insignificant.\n",
    "\n",
    "With this significant difference in male, female, and nonbinary participants in mind, we decided to look at the proportions of each response by gender. We created a stacked bar plot to visualize the proportions of each level of perceived mental health work interference response among each gender group (Figure 2). Based on this plot, we noticed that a greater proportion of male respondents never felt any sense of work interference from their mental health, as shown by the greater block of red (1.0) shown in Figure 2. Both female and non-binary respondents commonly felt that their mental health interfered with their work, represented by the orange (4.0, often) and pink (3.0, sometimes) blocks.\n",
    "\n",
    "We also wanted to know, on average, if women reported higher mental health work interference than men. We used a bar plot to visualize the average level of perceived mental health work interference for each gender group (Figure 3). Based on this plot, we noticed that female and non-binary identifying individuals reported slightly higher mental health work interference on average than male employees."
   ]
  },
  {
   "cell_type": "markdown",
   "metadata": {},
   "source": [
    "## Comparing Employees' Levels of Comfort Discussing Mental Health and Gender\n"
   ]
  },
  {
   "cell_type": "markdown",
   "metadata": {},
   "source": [
    "This section focuses on the survey question, \"Do you think that discussing a mental health issue with your employer would have negative consequences?\" This is an important question regarding the research that we are analyzing. Our research question asks whether or not there is a difference between how comfortable women feel in terms of discussing their mental health issues with their employers as compared to men. As part of our hypothesis and background research, we believe that women would have more trouble opening up about these issues due to their fear of not being taken seriously, or being judged as they can be already undermined due to their gender. We will look through the data in this section while comparing the variables of \"Mental Heath Consequences\" with values of -1 for 'No', 0 for 'Maybe and 1 for 'Yes'. \"Gender\" has values of M for Male, F for Female, and NB for non-binary. "
   ]
  },
  {
   "cell_type": "markdown",
   "metadata": {},
   "source": [
    "Here we look at the columns that consist of the variables we are focusing on: "
   ]
  },
  {
   "cell_type": "code",
   "execution_count": 32,
   "metadata": {},
   "outputs": [
    {
     "data": {
      "text/html": [
       "<div>\n",
       "<style scoped>\n",
       "    .dataframe tbody tr th:only-of-type {\n",
       "        vertical-align: middle;\n",
       "    }\n",
       "\n",
       "    .dataframe tbody tr th {\n",
       "        vertical-align: top;\n",
       "    }\n",
       "\n",
       "    .dataframe thead th {\n",
       "        text-align: right;\n",
       "    }\n",
       "</style>\n",
       "<table border=\"1\" class=\"dataframe\">\n",
       "  <thead>\n",
       "    <tr style=\"text-align: right;\">\n",
       "      <th></th>\n",
       "      <th>Mental Health Consequences Ordinal</th>\n",
       "      <th>Gender</th>\n",
       "    </tr>\n",
       "  </thead>\n",
       "  <tbody>\n",
       "    <tr>\n",
       "      <th>0</th>\n",
       "      <td>-1</td>\n",
       "      <td>F</td>\n",
       "    </tr>\n",
       "    <tr>\n",
       "      <th>2</th>\n",
       "      <td>-1</td>\n",
       "      <td>M</td>\n",
       "    </tr>\n",
       "    <tr>\n",
       "      <th>3</th>\n",
       "      <td>1</td>\n",
       "      <td>M</td>\n",
       "    </tr>\n",
       "    <tr>\n",
       "      <th>4</th>\n",
       "      <td>-1</td>\n",
       "      <td>M</td>\n",
       "    </tr>\n",
       "    <tr>\n",
       "      <th>5</th>\n",
       "      <td>-1</td>\n",
       "      <td>M</td>\n",
       "    </tr>\n",
       "    <tr>\n",
       "      <th>...</th>\n",
       "      <td>...</td>\n",
       "      <td>...</td>\n",
       "    </tr>\n",
       "    <tr>\n",
       "      <th>1240</th>\n",
       "      <td>1</td>\n",
       "      <td>M</td>\n",
       "    </tr>\n",
       "    <tr>\n",
       "      <th>1242</th>\n",
       "      <td>-1</td>\n",
       "      <td>M</td>\n",
       "    </tr>\n",
       "    <tr>\n",
       "      <th>1243</th>\n",
       "      <td>-1</td>\n",
       "      <td>M</td>\n",
       "    </tr>\n",
       "    <tr>\n",
       "      <th>1244</th>\n",
       "      <td>1</td>\n",
       "      <td>M</td>\n",
       "    </tr>\n",
       "    <tr>\n",
       "      <th>1245</th>\n",
       "      <td>1</td>\n",
       "      <td>F</td>\n",
       "    </tr>\n",
       "  </tbody>\n",
       "</table>\n",
       "<p>1023 rows × 2 columns</p>\n",
       "</div>"
      ],
      "text/plain": [
       "      Mental Health Consequences Ordinal Gender\n",
       "0                                     -1      F\n",
       "2                                     -1      M\n",
       "3                                      1      M\n",
       "4                                     -1      M\n",
       "5                                     -1      M\n",
       "...                                  ...    ...\n",
       "1240                                   1      M\n",
       "1242                                  -1      M\n",
       "1243                                  -1      M\n",
       "1244                                   1      M\n",
       "1245                                   1      F\n",
       "\n",
       "[1023 rows x 2 columns]"
      ]
     },
     "execution_count": 32,
     "metadata": {},
     "output_type": "execute_result"
    }
   ],
   "source": [
    "gender_consequence = tech_data[['Mental Health Consequences Ordinal', 'Gender']]\n",
    "# Extracting only the Ordinal Mental Health Consequences and Gender Columns \n",
    "gender_consequence"
   ]
  },
  {
   "cell_type": "markdown",
   "metadata": {},
   "source": [
    "The next code looks at the means of each gendered group: "
   ]
  },
  {
   "cell_type": "code",
   "execution_count": 33,
   "metadata": {},
   "outputs": [
    {
     "data": {
      "text/html": [
       "<div>\n",
       "<style scoped>\n",
       "    .dataframe tbody tr th:only-of-type {\n",
       "        vertical-align: middle;\n",
       "    }\n",
       "\n",
       "    .dataframe tbody tr th {\n",
       "        vertical-align: top;\n",
       "    }\n",
       "\n",
       "    .dataframe thead th {\n",
       "        text-align: right;\n",
       "    }\n",
       "</style>\n",
       "<table border=\"1\" class=\"dataframe\">\n",
       "  <thead>\n",
       "    <tr style=\"text-align: right;\">\n",
       "      <th></th>\n",
       "      <th>Mental Health Consequences Ordinal</th>\n",
       "    </tr>\n",
       "    <tr>\n",
       "      <th>Gender</th>\n",
       "      <th></th>\n",
       "    </tr>\n",
       "  </thead>\n",
       "  <tbody>\n",
       "    <tr>\n",
       "      <th>NB</th>\n",
       "      <td>0.250000</td>\n",
       "    </tr>\n",
       "    <tr>\n",
       "      <th>F</th>\n",
       "      <td>-0.057592</td>\n",
       "    </tr>\n",
       "    <tr>\n",
       "      <th>M</th>\n",
       "      <td>-0.240291</td>\n",
       "    </tr>\n",
       "  </tbody>\n",
       "</table>\n",
       "</div>"
      ],
      "text/plain": [
       "        Mental Health Consequences Ordinal\n",
       "Gender                                    \n",
       "NB                                0.250000\n",
       "F                                -0.057592\n",
       "M                                -0.240291"
      ]
     },
     "execution_count": 33,
     "metadata": {},
     "output_type": "execute_result"
    }
   ],
   "source": [
    "#Group means of Mental Health Consequences Ordinal\n",
    "grouped_gender = gender_consequence.groupby('Gender').mean().sort_values(by = 'Mental Health Consequences Ordinal', ascending = False)\n",
    "grouped_gender"
   ]
  },
  {
   "cell_type": "markdown",
   "metadata": {},
   "source": [
    "Here we have a bar plot to observe the results of the mean responses from the gendered groups. "
   ]
  },
  {
   "cell_type": "code",
   "execution_count": 34,
   "metadata": {},
   "outputs": [
    {
     "data": {
      "text/plain": [
       "<AxesSubplot:xlabel='Gender', ylabel='Mental Health Consequences Ordinal'>"
      ]
     },
     "execution_count": 34,
     "metadata": {},
     "output_type": "execute_result"
    },
    {
     "data": {
      "image/png": "[encoded data removed]",
      "text/plain": [
       "<Figure size 640x480 with 1 Axes>"
      ]
     },
     "metadata": {},
     "output_type": "display_data"
    }
   ],
   "source": [
    "#shows the difference in mean values between the three gender identities\n",
    "sns.barplot(data = grouped_gender.reset_index(), x = 'Gender', y = 'Mental Health Consequences Ordinal')"
   ]
  },
  {
   "cell_type": "markdown",
   "metadata": {},
   "source": [
    "See above that Non-Binary identifying employees have the highest average, followed by Female-identifying. remember that -1 is no, don't feel like their employers will fault discussions about mental health and 1 is yes, feel like there are consequences to discussions regarding mental health. we see that F and NB are closer to 1 than M employees, meaning that there's a discrepancy between gender identity but we'll investigate that further.This could further validate our hypothesis when it comes to the differentiation of comfortability between the genders when discussing mental health with employers. "
   ]
  },
  {
   "cell_type": "markdown",
   "metadata": {},
   "source": [
    "## Now, we are comparing non-males and males (One group of F and NB, other group is M)"
   ]
  },
  {
   "cell_type": "markdown",
   "metadata": {},
   "source": [
    "Here we have the mean of responses from males. "
   ]
  },
  {
   "cell_type": "code",
   "execution_count": 35,
   "metadata": {},
   "outputs": [
    {
     "data": {
      "text/plain": [
       "-0.24029126213592233"
      ]
     },
     "execution_count": 35,
     "metadata": {},
     "output_type": "execute_result"
    }
   ],
   "source": [
    "# Mean of mental health consequences value for males\n",
    "m_mean = gender_consequence[gender_consequence.Gender=='M']['Mental Health Consequences Ordinal'].mean()\n",
    "m_mean"
   ]
  },
  {
   "cell_type": "markdown",
   "metadata": {},
   "source": [
    "Here we have the mean of responses from non-males. "
   ]
  },
  {
   "cell_type": "code",
   "execution_count": 36,
   "metadata": {},
   "outputs": [
    {
     "data": {
      "text/plain": [
       "-0.04522613065326633"
      ]
     },
     "execution_count": 36,
     "metadata": {},
     "output_type": "execute_result"
    }
   ],
   "source": [
    "#Mean of mental health consequences value for non-males\n",
    "nonm_mean = gender_consequence[gender_consequence.Gender!='M']['Mental Health Consequences Ordinal'].mean()\n",
    "nonm_mean"
   ]
  },
  {
   "cell_type": "markdown",
   "metadata": {},
   "source": [
    "The difference of mean of males - mean of non-males"
   ]
  },
  {
   "cell_type": "code",
   "execution_count": 37,
   "metadata": {},
   "outputs": [],
   "source": [
    "#Difference of the means (Male vs. Non-Male)\n",
    "obs = nonm_mean - m_mean"
   ]
  },
  {
   "cell_type": "code",
   "execution_count": 38,
   "metadata": {},
   "outputs": [
    {
     "data": {
      "text/plain": [
       "0.195065131482656"
      ]
     },
     "execution_count": 38,
     "metadata": {},
     "output_type": "execute_result"
    }
   ],
   "source": [
    "obs"
   ]
  },
  {
   "cell_type": "markdown",
   "metadata": {},
   "source": [
    "## Now, we are looking at the means visually with histograms. "
   ]
  },
  {
   "cell_type": "markdown",
   "metadata": {},
   "source": [
    "Histogram of the mean responses from female employees. Remember -1 is \"No\", 0 is \"Maybe\" and 1 is \"Yes\" to the answer of being comfortable discussing mental health issues with employers without facing consequences. "
   ]
  },
  {
   "cell_type": "code",
   "execution_count": 39,
   "metadata": {},
   "outputs": [
    {
     "data": {
      "text/plain": [
       "<AxesSubplot:xlabel='Mental Health Consequences Ordinal', ylabel='Count'>"
      ]
     },
     "execution_count": 39,
     "metadata": {},
     "output_type": "execute_result"
    },
    {
     "data": {
      "image/png": "[encoded data removed]",
      "text/plain": [
       "<Figure size 640x480 with 1 Axes>"
      ]
     },
     "metadata": {},
     "output_type": "display_data"
    }
   ],
   "source": [
    "#histograms of ordinal mental health consequences for females\n",
    "sns.histplot(gender_consequence[gender_consequence.Gender=='F'], x = 'Mental Health Consequences Ordinal', discrete = True)\n"
   ]
  },
  {
   "cell_type": "markdown",
   "metadata": {},
   "source": [
    "Histogram of the mean responses from non-binary employees. "
   ]
  },
  {
   "cell_type": "code",
   "execution_count": 40,
   "metadata": {},
   "outputs": [
    {
     "data": {
      "text/plain": [
       "<AxesSubplot:xlabel='Mental Health Consequences Ordinal', ylabel='Count'>"
      ]
     },
     "execution_count": 40,
     "metadata": {},
     "output_type": "execute_result"
    },
    {
     "data": {
      "image/png": "[encoded data removed]",
      "text/plain": [
       "<Figure size 640x480 with 1 Axes>"
      ]
     },
     "metadata": {},
     "output_type": "display_data"
    }
   ],
   "source": [
    "#histograms of ordinal mental health consequences for Non-Binary folks\n",
    "sns.histplot(gender_consequence[gender_consequence.Gender=='NB'],x = 'Mental Health Consequences Ordinal', discrete = True)\n"
   ]
  },
  {
   "cell_type": "markdown",
   "metadata": {},
   "source": [
    "Histogram of the mean responses from male employees. "
   ]
  },
  {
   "cell_type": "code",
   "execution_count": 41,
   "metadata": {},
   "outputs": [
    {
     "data": {
      "text/plain": [
       "<AxesSubplot:xlabel='Mental Health Consequences Ordinal', ylabel='Count'>"
      ]
     },
     "execution_count": 41,
     "metadata": {},
     "output_type": "execute_result"
    },
    {
     "data": {
      "image/png": "[encoded data removed]",
      "text/plain": [
       "<Figure size 640x480 with 1 Axes>"
      ]
     },
     "metadata": {},
     "output_type": "display_data"
    }
   ],
   "source": [
    "#histograms of ordinal mental health consequences for Males\n",
    "sns.histplot(gender_consequence[gender_consequence.Gender=='M'],x = 'Mental Health Consequences Ordinal', discrete = True)"
   ]
  },
  {
   "cell_type": "markdown",
   "metadata": {},
   "source": [
    "The above 3 histograms give an idea of how each gender identity feels about the consequences of discussing mental health with their employer. F shows a somewhat normal distribution with responses being emphasized with \"Maybe\" responses, while NB is left skewed and M is right skewed. We can see that males are more confident in believing that they are able to confide their mental health issues with employers as opposed to females and non-binary people."
   ]
  },
  {
   "cell_type": "markdown",
   "metadata": {},
   "source": [
    "We wanted to test if this difference of values is statistically significant or due to random chance. Thus, we perform a hypothesis test. Our null and alternative hypotheses are as follows:\n",
    "\n",
    "Null: Males vs. Non-Males feel the same about whether their employers will fault them for discussing mental health. Any difference is due to random chance\n",
    "\n",
    "Alternative Hypothesis: Non-Males are more likely to believe that their employers will fault them for discussing mental health."
   ]
  },
  {
   "cell_type": "code",
   "execution_count": 42,
   "metadata": {},
   "outputs": [],
   "source": [
    "# Digging deeper to do hypothesis test of whether the observed difference is statistically significant:\n",
    "gender_copy = gender_consequence.copy() #creating a copy of the gender_consequence df\n",
    "results = [] # empty array to store results\n",
    "#1000 iterations of the test\n",
    "for _ in range(1000):\n",
    "    gender_copy['Gender'] = np.random.permutation(gender_copy['Gender']) # shuffle the gender column at random\n",
    "    cur_m_mean = gender_copy[gender_copy.Gender=='M']['Mental Health Consequences Ordinal'].mean() # compute male mean\n",
    "    cur_nonm_mean = gender_copy[gender_copy.Gender!='M']['Mental Health Consequences Ordinal'].mean() #compute non-male mean\n",
    "    test_diff = cur_nonm_mean-cur_m_mean #compute diff in non-male and male mean\n",
    "    results += [test_diff] # append the current test statistic to the results array\n",
    "p_val = (np.array(results)>=obs).mean() #compute the p-val for our test"
   ]
  },
  {
   "cell_type": "code",
   "execution_count": 43,
   "metadata": {},
   "outputs": [
    {
     "data": {
      "text/plain": [
       "0.002"
      ]
     },
     "execution_count": 43,
     "metadata": {},
     "output_type": "execute_result"
    }
   ],
   "source": [
    "p_val"
   ]
  },
  {
   "cell_type": "markdown",
   "metadata": {},
   "source": [
    "Our hypothesis test shows that our observed difference in means is statistically significant difference at the 1% significance level. That is, we reject our null hypothesis that males and non-males feel the same about the possibility of facing consequences for discussing mental health. "
   ]
  },
  {
   "cell_type": "markdown",
   "metadata": {},
   "source": [
    "This section gives us clarification with our research question and seems to possible validate our hypothesis, that the different genders do in fact have differences in how comfortable disussing mental health issues without the fear of facing negative consequences. Through data analysis, we can see that there is a difference between the responses given by men, women, and non-binary employees. It seems that men are more comfortable with possibly discussing mental health issues with their employees without the fear of facing negative consequences, which raises the question of why, and if this has anything to do with the possible differences in experience between men and women in the tech industry. "
   ]
  },
  {
   "cell_type": "markdown",
   "metadata": {},
   "source": [
    "# Comparing number of those who sought mental health treatment based on gender"
   ]
  },
  {
   "cell_type": "markdown",
   "metadata": {},
   "source": [
    "This next section will looks at the comparison between survey participant’s responses that answered the question “have you sought treatment for a mental health condition?” \n",
    "\n",
    "In the tech_data dataframe the column 'Sought Treatment' records each participant's response with a specifc ordinal number: 'Yes' is 1, 'No' is 0.\n",
    "\n",
    "We will analyze the data by first counting the number of the participants' responses and differentiating these repsonses depending on the gender of the participant. The second way we will analyze this data further by getting the proportion of each gender and their responses due to ther higher number of male responses(637) with female responses(163) and nonbinary responses(8).\n",
    "\n",
    "This data does not contain any outliers since it was a yes or no question in the survey."
   ]
  },
  {
   "cell_type": "code",
   "execution_count": 44,
   "metadata": {},
   "outputs": [],
   "source": [
    "sought_treatment = tech_data[['Gender', 'Sought Treatment']]\n",
    "sought_treatment = sought_treatment.dropna(subset = ['Sought Treatment'])\n",
    "sought_treatment = sought_treatment.reset_index(drop = True)"
   ]
  },
  {
   "cell_type": "code",
   "execution_count": 45,
   "metadata": {},
   "outputs": [
    {
     "data": {
      "text/html": [
       "<div>\n",
       "<style scoped>\n",
       "    .dataframe tbody tr th:only-of-type {\n",
       "        vertical-align: middle;\n",
       "    }\n",
       "\n",
       "    .dataframe tbody tr th {\n",
       "        vertical-align: top;\n",
       "    }\n",
       "\n",
       "    .dataframe thead th {\n",
       "        text-align: right;\n",
       "    }\n",
       "</style>\n",
       "<table border=\"1\" class=\"dataframe\">\n",
       "  <thead>\n",
       "    <tr style=\"text-align: right;\">\n",
       "      <th></th>\n",
       "      <th>Gender</th>\n",
       "      <th>Sought Treatment</th>\n",
       "    </tr>\n",
       "  </thead>\n",
       "  <tbody>\n",
       "    <tr>\n",
       "      <th>0</th>\n",
       "      <td>F</td>\n",
       "      <td>1</td>\n",
       "    </tr>\n",
       "    <tr>\n",
       "      <th>1</th>\n",
       "      <td>M</td>\n",
       "      <td>0</td>\n",
       "    </tr>\n",
       "    <tr>\n",
       "      <th>2</th>\n",
       "      <td>M</td>\n",
       "      <td>1</td>\n",
       "    </tr>\n",
       "    <tr>\n",
       "      <th>3</th>\n",
       "      <td>M</td>\n",
       "      <td>0</td>\n",
       "    </tr>\n",
       "    <tr>\n",
       "      <th>4</th>\n",
       "      <td>M</td>\n",
       "      <td>0</td>\n",
       "    </tr>\n",
       "    <tr>\n",
       "      <th>...</th>\n",
       "      <td>...</td>\n",
       "      <td>...</td>\n",
       "    </tr>\n",
       "    <tr>\n",
       "      <th>1018</th>\n",
       "      <td>M</td>\n",
       "      <td>1</td>\n",
       "    </tr>\n",
       "    <tr>\n",
       "      <th>1019</th>\n",
       "      <td>M</td>\n",
       "      <td>1</td>\n",
       "    </tr>\n",
       "    <tr>\n",
       "      <th>1020</th>\n",
       "      <td>M</td>\n",
       "      <td>1</td>\n",
       "    </tr>\n",
       "    <tr>\n",
       "      <th>1021</th>\n",
       "      <td>M</td>\n",
       "      <td>1</td>\n",
       "    </tr>\n",
       "    <tr>\n",
       "      <th>1022</th>\n",
       "      <td>F</td>\n",
       "      <td>0</td>\n",
       "    </tr>\n",
       "  </tbody>\n",
       "</table>\n",
       "<p>1023 rows × 2 columns</p>\n",
       "</div>"
      ],
      "text/plain": [
       "     Gender  Sought Treatment\n",
       "0         F                 1\n",
       "1         M                 0\n",
       "2         M                 1\n",
       "3         M                 0\n",
       "4         M                 0\n",
       "...     ...               ...\n",
       "1018      M                 1\n",
       "1019      M                 1\n",
       "1020      M                 1\n",
       "1021      M                 1\n",
       "1022      F                 0\n",
       "\n",
       "[1023 rows x 2 columns]"
      ]
     },
     "execution_count": 45,
     "metadata": {},
     "output_type": "execute_result"
    }
   ],
   "source": [
    "sought_treatment"
   ]
  },
  {
   "cell_type": "markdown",
   "metadata": {},
   "source": [
    "## Figure 1"
   ]
  },
  {
   "cell_type": "markdown",
   "metadata": {},
   "source": [
    "This figure counts the number of yes or no responses on whether or not they sought treatment depending on gender."
   ]
  },
  {
   "cell_type": "code",
   "execution_count": 46,
   "metadata": {},
   "outputs": [
    {
     "data": {
      "text/plain": [
       "<AxesSubplot:xlabel='Sought Treatment', ylabel='count'>"
      ]
     },
     "execution_count": 46,
     "metadata": {},
     "output_type": "execute_result"
    },
    {
     "data": {
      "image/png": "[encoded data removed]",
      "text/plain": [
       "<Figure size 640x480 with 1 Axes>"
      ]
     },
     "metadata": {},
     "output_type": "display_data"
    }
   ],
   "source": [
    "sns.countplot(data = sought_treatment, x = \"Sought Treatment\", hue = \"Gender\")"
   ]
  },
  {
   "cell_type": "code",
   "execution_count": 47,
   "metadata": {},
   "outputs": [],
   "source": [
    "treatment = pd.DataFrame({'Gender':['F','F','M','M', 'NB', 'NB'],\n",
    "                       'Sought Treatment':['1', '0', '1', '0', '1', '0']})\n",
    "treatment = treatment.sort_values('Gender', ascending=True)\n",
    "\n",
    "treatment = tech_data.groupby('Gender')['Sought Treatment'].value_counts().reset_index(name='prop')\n",
    "femalesum=treatment.groupby('Gender')['prop'].sum()['F']\n",
    "malesum=treatment.groupby('Gender')['prop'].sum()['M']\n",
    "nbsum= treatment.groupby('Gender')['prop'].sum()['NB']\n",
    "\n",
    "treatment.loc[0, 'prop'] = treatment.loc[0, 'prop'] / femalesum\n",
    "treatment.loc[1, 'prop'] = treatment.loc[1, 'prop'] / femalesum\n",
    "treatment.loc[2, 'prop'] = treatment.loc[2, 'prop'] / malesum\n",
    "treatment.loc[3, 'prop'] = treatment.loc[3, 'prop'] / malesum\n",
    "treatment.loc[4, 'prop'] = treatment.loc[2, 'prop'] / nbsum\n",
    "treatment.loc[5, 'prop'] = treatment.loc[3, 'prop'] / nbsum\n"
   ]
  },
  {
   "cell_type": "code",
   "execution_count": 48,
   "metadata": {},
   "outputs": [
    {
     "data": {
      "text/html": [
       "<div>\n",
       "<style scoped>\n",
       "    .dataframe tbody tr th:only-of-type {\n",
       "        vertical-align: middle;\n",
       "    }\n",
       "\n",
       "    .dataframe tbody tr th {\n",
       "        vertical-align: top;\n",
       "    }\n",
       "\n",
       "    .dataframe thead th {\n",
       "        text-align: right;\n",
       "    }\n",
       "</style>\n",
       "<table border=\"1\" class=\"dataframe\">\n",
       "  <thead>\n",
       "    <tr style=\"text-align: right;\">\n",
       "      <th></th>\n",
       "      <th>Gender</th>\n",
       "      <th>Sought Treatment</th>\n",
       "      <th>prop</th>\n",
       "    </tr>\n",
       "  </thead>\n",
       "  <tbody>\n",
       "    <tr>\n",
       "      <th>0</th>\n",
       "      <td>F</td>\n",
       "      <td>1</td>\n",
       "      <td>0.685864</td>\n",
       "    </tr>\n",
       "    <tr>\n",
       "      <th>1</th>\n",
       "      <td>F</td>\n",
       "      <td>0</td>\n",
       "      <td>0.314136</td>\n",
       "    </tr>\n",
       "    <tr>\n",
       "      <th>2</th>\n",
       "      <td>M</td>\n",
       "      <td>0</td>\n",
       "      <td>0.549757</td>\n",
       "    </tr>\n",
       "    <tr>\n",
       "      <th>3</th>\n",
       "      <td>M</td>\n",
       "      <td>1</td>\n",
       "      <td>0.450243</td>\n",
       "    </tr>\n",
       "    <tr>\n",
       "      <th>4</th>\n",
       "      <td>NB</td>\n",
       "      <td>1</td>\n",
       "      <td>0.068720</td>\n",
       "    </tr>\n",
       "    <tr>\n",
       "      <th>5</th>\n",
       "      <td>NB</td>\n",
       "      <td>0</td>\n",
       "      <td>0.056280</td>\n",
       "    </tr>\n",
       "  </tbody>\n",
       "</table>\n",
       "</div>"
      ],
      "text/plain": [
       "  Gender  Sought Treatment      prop\n",
       "0      F                 1  0.685864\n",
       "1      F                 0  0.314136\n",
       "2      M                 0  0.549757\n",
       "3      M                 1  0.450243\n",
       "4     NB                 1  0.068720\n",
       "5     NB                 0  0.056280"
      ]
     },
     "execution_count": 48,
     "metadata": {},
     "output_type": "execute_result"
    }
   ],
   "source": [
    "treatment"
   ]
  },
  {
   "cell_type": "markdown",
   "metadata": {},
   "source": [
    "## Figure 2"
   ]
  },
  {
   "cell_type": "markdown",
   "metadata": {},
   "source": [
    "This figure also comapres the yes or no responses to the same survey question but takes into account the proportion of genders."
   ]
  },
  {
   "cell_type": "code",
   "execution_count": 49,
   "metadata": {},
   "outputs": [
    {
     "data": {
      "text/plain": [
       "<AxesSubplot:xlabel='Sought Treatment', ylabel='prop'>"
      ]
     },
     "execution_count": 49,
     "metadata": {},
     "output_type": "execute_result"
    },
    {
     "data": {
      "image/png": "[encoded data removed]",
      "text/plain": [
       "<Figure size 640x480 with 1 Axes>"
      ]
     },
     "metadata": {},
     "output_type": "display_data"
    }
   ],
   "source": [
    "plot_proportion = sns.barplot(data=treatment, x=treatment['Sought Treatment'], y=treatment['prop'], hue=treatment['Gender'])\n",
    "\n",
    "plot_proportion"
   ]
  },
  {
   "cell_type": "markdown",
   "metadata": {},
   "source": [
    "In figure 1, we created a count box that demonstrated how men are more likely to seek treatment but this graph does not take into account the proportions.Since it does not take into account the proportions the number of men who sought treatment is much higher compared to the female and nonbinary people. \n",
    "\n",
    "Taking into consideration of the proportions for genders, figure 2 demonstrates how female and nonbinary  identifying people often seek more mental health treatment despite the number of female/nonbinary employees being so low compared to the male employee. "
   ]
  }
 ],
 "metadata": {
  "kernelspec": {
   "display_name": "Python 3 (ipykernel)",
   "language": "python",
   "name": "python3"
  },
  "language_info": {
   "codemirror_mode": {
    "name": "ipython",
    "version": 3
   },
   "file_extension": ".py",
   "mimetype": "text/x-python",
   "name": "python",
   "nbconvert_exporter": "python",
   "pygments_lexer": "ipython3",
   "version": "3.9.13"
  }
 },
 "nbformat": 4,
 "nbformat_minor": 2
}
