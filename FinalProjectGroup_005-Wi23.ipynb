{
 "cells": [
  {
   "cell_type": "markdown",
   "metadata": {},
   "source": [
    "# COGS 108 - Mental Health Across Male and Non-Male Employees in the Tech Industry"
   ]
  },
  {
   "cell_type": "markdown",
   "metadata": {},
   "source": [
    "## Permissions\n",
    "\n",
    "Place an `X` in the appropriate bracket below to specify if you would like your group's project to be made available to the public. (Note that student names will be included (but PIDs will be scraped from any groups who include their PIDs).\n",
    "\n",
    "* [ X ] YES - make available\n",
    "* [   ] NO - keep private"
   ]
  },
  {
   "cell_type": "markdown",
   "metadata": {},
   "source": [
    "# Overview"
   ]
  },
  {
   "cell_type": "markdown",
   "metadata": {},
   "source": [
    "In this project, we looked to observe what correlations there were between certain outcomes of gender discrimination within the tech industry, and analyzed these through comparing results across female, male, and non-binary employees. After cleaning data, we utilized a variety of data visualizations as well as hypothesis p-tests to analyze results across three different categories:\n",
    "\n",
    "1. levels of mental health and work interference x gender\n",
    "2. comfort of discussing mental health x gender\n",
    "3. levels of seeking mental health treatment x gender\n",
    "\n",
    "Through our analysis, we were able to determine that there is a difference in attitude towards discussing mental health in the workplace across male and non-male employees. Although our analysis does not reach into causes for such differences, we notice that male employees generally experience less mental health struggles and feel more comfortable discussing such experiences within the workplace."
   ]
  },
  {
   "cell_type": "markdown",
   "metadata": {},
   "source": [
    "# Names\n",
    "\n",
    "- Jennifer Jiang\n",
    "- Hannah Ordonez\n",
    "- Daniela Garcia \n",
    "- Ghada Barhoush\n",
    "- Stephanie Li\n",
    "- Cynthia Delira\n"
   ]
  },
  {
   "cell_type": "markdown",
   "metadata": {},
   "source": [
    "<a id='research_question'></a>\n",
    "# Research Question"
   ]
  },
  {
   "cell_type": "markdown",
   "metadata": {},
   "source": [
    "How might the experiences of women and men differ in tech in terms of mental health issues/comfortability of discussing mental health issues?"
   ]
  },
  {
   "cell_type": "markdown",
   "metadata": {},
   "source": [
    "## Background & Prior Work"
   ]
  },
  {
   "cell_type": "markdown",
   "metadata": {},
   "source": [
    "Our project will focus on the prevalence of mental health issues within workplaces in the tech industry. We will specifically look at the mental health of female employees as we believe that gender discrimination is rampant within the tech industry. The gender discrimination that female employees face would likely have a great effect on their mental health, especially since they would want to be taken seriously and would be put under the stress of proving themselves. We also believe that with the stress of proving themselves, they would be less likely to admit that they are facing mental health issues in fear of being judged or not taken seriously. We have looked into existing studies that further reinforced our beliefs on this topic of the existence of gender discrimination within the tech industry. \n",
    "\n",
    "The paper, “Identifying and Overcoming Gender Barriers in Tech: A Field Experiment on Inaccurate Statistical Discrimination” [^Feld, Leibbrandt, Vecci] looked into the programming skills and performances of men and women and then researched the employers assessment of these skills. This paper had some interesting findings as well as reinforced our beliefs that gender discrimination does in fact exist in tech industries. The paper first looked into the skills and performances of job applicants, and found that there was no significant difference between how well the job applicants performed. Which would mean that the gender of the applicants did not matter as their skillsets are very similar. However, when it came to the employers view on those skills when provided with baseline information that includes gender, the employers were more likely to believe that the women performed worse than their male counterparts. This is serious, as it shows that gender discrimination in tech industries begins from the beginning stage, in the hiring process.It would also explain why there are less female employees than male employees in the tech industry. What was even more surprising and interesting, was that female employers were more likely to dismiss the female applicants’ performances. This could be for various several reasons, one of them potentially being that getting a higher position in a male-dominated workplace and having to prove themselves would have affected them in a way that causes them to judge the female applicants in a stricter manner. It is very likely that the women who actually get past the hiring stages would have to work harder to prove themselves and would find themselves in higher levels of stress. It is very likely that this proven level of gender discrimination would have an effect on the mental health of the female employees, especially since the study has reinforced the idea that the skills of female applicants are judged more critically and are seen as less impressive than the work of their male counterparts. \n",
    "\n",
    "With the current industrial revolution that technology is going through there is a need for highly skilled and innovative developers. Women are encouraged to be in the technology industry with numbers showing that events such as recruitment and training are being held specifically for the number of women in tech to increase. Even with such encouragement, there is still gender bias, prejudices, and other attitudes towards women in the industry. Since the technological field is predominantly male-dominated the respondents in this study, women, are said to be suffering from low self-esteem and imposter syndrome [^Hyrynsalmi]. On top of the low representation of women in the technological field, women also do not frequent managerial positions with 11% of women holding officer roles in tech companies in the U.S. [^Hyrynsalmi]. The study found some women let self-doubt and uncertainty affect their attitude toward the tech industry, some fear age discrimination as well as clear gender bias while others feel neutral about gender bias. A lot is being done to mitigate such issues like offering peer support from other women, an increase in openness, and fostering more diversity in the tech industry. There’s no denying that there is still a lot of work that needs to be done so that women feel less insecure in this male-dominated field. \n",
    "\n",
    "It is without a doubt that the lack of women in technical roles is a problem that has led to not only women feeling unrepresented and unsupported but has led to negative mental health concerns that has an impact in not only their performance but for their own well being. In order to combat the negative mental health issues and lack of comfortability from women in the field there needs to be a strive to decrease the gender gap. To begin, one thing that is highlighted as an issue from tech companies is that women are not being promoted at the same rate as their male peers [^McKinsey]. In fact, according to an article by McKinsey and Company, “Repairing the broken rung on the career ladder for women in technical roles,” for every 100 men only 52 women are being promoted to manager in technical roles. This becomes an issue when women are not being prepared or trained for senior roles and can lead to financial burden and stress. In addition, women in manager and senior roles can lead to more representation and bring more support for women who are interested or are new to the field. To combat this problem, companies have started to build and create mentorship programs, inclusion training, as well as diversity and inclusion programs[^McKinsey] in order to help women better prepare and gain these early promotions as well as to help create more opportunities for women in the field. \n",
    "\n",
    "References:\n",
    "- 1) [^Feld, Leibbrandt, Vecci]: Feld, J., Ip, E., Leibbrandt, A., & Vecci, J. (2022, October 7). Identifying and overcoming gender barriers in tech: A field experiment on inaccurate statistical discrimination. https://www.cesifo.org/en/publications/2022/working-paper/identifying-and-overcoming-gender-barriers-tech-field-experiment \n",
    "\n",
    "- 2) [^Hyrynsalmi]: Hyrynsalmi, S. ( May 2019) The Underrepresentation of Women in the Software Industry: Thoughts from Career-Changing Women\n",
    "https://www.researchgate.net/publication/335496057_The_Underrepresentation_of_Women_in_the_Software_Industry_Thoughts_from_Career-Changing_Women\n",
    "\n",
    "\n",
    "- 3) [^McKinsey]: McKinsey & Company.(1 March 2022). Repairing the Broken Rung on the Career Ladder for Women in Technical Roles. https://www.mckinsey.com/industries/technology-media-and-telecommunications/our-insights/repairing-the-broken-rung-on-the-career-ladder-for-women-in-technical-roles."
   ]
  },
  {
   "cell_type": "markdown",
   "metadata": {},
   "source": [
    "# Hypothesis"
   ]
  },
  {
   "cell_type": "markdown",
   "metadata": {},
   "source": [
    "Female-identifying people in the tech industry are more likely to struggle with mental health issues and addressing those mental health gaps with their employer. Women are often a minority in the tech workplace and as a result may feel less comfortable reaching out to coworkers or employers. Additionally, they may experience gender discrimination or harassment from men in the workplace that can lead to a variety of mental health issues."
   ]
  },
  {
   "cell_type": "markdown",
   "metadata": {},
   "source": [
    "# Dataset"
   ]
  },
  {
   "cell_type": "markdown",
   "metadata": {},
   "source": [
    "- Dataset Name: Mental Health in Tech Survey\n",
    "- Link to the dataset: https://www.kaggle.com/datasets/osmi/mental-health-in-tech-survey\n",
    "- Number of observations: 1260\n",
    "\n",
    "Open Sourcing Mental Health (OSMH), a non-profit organization deidcated promoting mental wellness, conducted a survey in 2014 to observe attitudes towards mental health in the workplace, particularly in the technology industry. The survey asks a number of questions, ranging from age and gender of respondents to their comfortability of discussing mental health with peers/employers."
   ]
  },
  {
   "cell_type": "markdown",
   "metadata": {},
   "source": [
    "# Setup"
   ]
  },
  {
   "cell_type": "code",
   "execution_count": 1,
   "metadata": {
    "collapsed": true
   },
   "outputs": [],
   "source": [
    "import pandas as pd\n",
    "import numpy as np\n",
    "import os\n",
    "import re\n",
    "import sklearn\n",
    "import seaborn as sns\n",
    "import matplotlib.pyplot as plt\n",
    "import plotly.express as px"
   ]
  },
  {
   "cell_type": "code",
   "execution_count": 2,
   "metadata": {},
   "outputs": [],
   "source": [
    "# tech_data_fp = os.path.join('data', 'survey.csv')\n",
    "tech_data = pd.read_csv('survey.csv')"
   ]
  },
  {
   "cell_type": "markdown",
   "metadata": {},
   "source": [
    "# Data Cleaning"
   ]
  },
  {
   "cell_type": "code",
   "execution_count": 3,
   "metadata": {},
   "outputs": [],
   "source": [
    "#Dropping Columns that are not necessary for analysis\n",
    "\n",
    "tech_data = tech_data.drop(columns = ['Timestamp', 'state','wellness_program',\\\n",
    "                                      'seek_help', 'anonymity', 'phys_health_consequence',\\\n",
    "                                      'coworkers', 'supervisor', 'mental_health_interview',\\\n",
    "                                      'phys_health_interview', 'mental_vs_physical', 'comments'])\n",
    "\n",
    "\n",
    "\n"
   ]
  },
  {
   "cell_type": "code",
   "execution_count": 4,
   "metadata": {},
   "outputs": [],
   "source": [
    "#Renaming Columns for Ease of Understanding\n",
    "tech_data.columns = ['Age', 'Gender', 'Country', 'Self Employed',\\\n",
    "                     'Family History', 'Sought Treatment', 'Work Interfere',\\\n",
    "                    'Number Employees', 'Work Remotely', 'Tech Company',\\\n",
    "                    'Offer Benefits', 'Knowledge of Care Options', 'How Easy to take Medical Leave',\\\n",
    "                    'Mental Health Consequences', 'Observed Consequences']\n",
    "\n",
    "\n",
    "\n",
    "\n",
    "\n",
    "\n"
   ]
  },
  {
   "cell_type": "code",
   "execution_count": 5,
   "metadata": {},
   "outputs": [],
   "source": [
    "#Remove upper and lower .05% of Ages to filter out outliers\n",
    "lower = tech_data['Age'].quantile(.005)\n",
    "\n",
    "upper = tech_data['Age'].quantile(.995)\n",
    "\n",
    "tech_data = tech_data[(tech_data['Age']>=lower) & (tech_data['Age']<=upper)]"
   ]
  },
  {
   "cell_type": "code",
   "execution_count": 6,
   "metadata": {},
   "outputs": [],
   "source": [
    "#Taking care of most gender inputs\n",
    "gender_expression = lambda x: re.sub(r'^Male|^male|^.* Male|^.* male|M |^m$| M', 'M', x)\n",
    "gender_expression2 = lambda x: re.sub(r'Female|female|^f$|Woman|Female[.]*|cis-female/femme|Female (trans)|Female (cis)|woman|Femake|Cis Female|Trans-female|queer/she/they| F|F ', 'F', x)\n",
    "\n",
    "tech_data['Gender'] =(tech_data['Gender'].apply(gender_expression)).apply(gender_expression2)"
   ]
  },
  {
   "cell_type": "code",
   "execution_count": 7,
   "metadata": {},
   "outputs": [],
   "source": [
    "for_replacement = ['M', 'M', 'M', 'M',\\\n",
    "                   'M', 'NB', 'M', 'NB',\\\n",
    "                   'NB', 'NB', 'NB', 'F',\\\n",
    "                   'M', 'NB', 'NB', 'M', \\\n",
    "                   'M', 'M', 'M', 'M',\\\n",
    "                   'M', 'F', 'M', 'M',\\\n",
    "                   'NB', 'F', 'NB', 'F',\\\n",
    "                   'M', 'F', 'F', 'M',\\\n",
    "                   'M', 'F', 'M', 'M',\\\n",
    "                   'M']\n",
    "    "
   ]
  },
  {
   "cell_type": "code",
   "execution_count": 8,
   "metadata": {},
   "outputs": [
    {
     "name": "stderr",
     "output_type": "stream",
     "text": [
      "/tmp/ipykernel_2504/3636781357.py:4: SettingWithCopyWarning: \n",
      "A value is trying to be set on a copy of a slice from a DataFrame\n",
      "\n",
      "See the caveats in the documentation: https://pandas.pydata.org/pandas-docs/stable/user_guide/indexing.html#returning-a-view-versus-a-copy\n",
      "  tech_data['Gender'].loc[i] = for_replacement[counter]\n"
     ]
    }
   ],
   "source": [
    "#takes care of the rest of the gender inputs\n",
    "counter = 0\n",
    "for i in tech_data[(tech_data['Gender']!= 'M') & (tech_data['Gender']!='F')]['Gender'].index:\n",
    "    tech_data['Gender'].loc[i] = for_replacement[counter]\n",
    "    counter +=1"
   ]
  },
  {
   "cell_type": "code",
   "execution_count": 9,
   "metadata": {},
   "outputs": [],
   "source": [
    "#one-hot encoding of strictly yes/no columns for ease of computation\n",
    "tech_data[['Self Employed', 'Family History', 'Sought Treatment',\\\n",
    "           'Work Remotely', 'Tech Company', 'Observed Consequences']] \\\n",
    "= tech_data[['Self Employed', 'Family History', 'Sought Treatment', \\\n",
    "             'Work Remotely', 'Tech Company', 'Observed Consequences']]\\\n",
    ".replace('Yes', 1).replace('No', 0)\n",
    "\n",
    "\n"
   ]
  },
  {
   "cell_type": "code",
   "execution_count": 10,
   "metadata": {},
   "outputs": [],
   "source": [
    "# Ordering columns for ease of interpretation\n",
    "ordered_columns = ['Age', 'Gender', 'Country', 'Number Employees',\\\n",
    "                   'Work Interfere', 'Offer Benefits', 'Knowledge of Care Options',\\\n",
    "                  'How Easy to take Medical Leave', 'Mental Health Consequences',\\\n",
    "                  'Self Employed', 'Family History', 'Sought Treatment', 'Work Remotely', 'Tech Company',\\\n",
    "                  'Observed Consequences']\n",
    "\n",
    "tech_data = tech_data[ordered_columns]"
   ]
  },
  {
   "cell_type": "code",
   "execution_count": 11,
   "metadata": {},
   "outputs": [],
   "source": [
    "tech_data = tech_data.reset_index().drop(columns = 'index')"
   ]
  },
  {
   "cell_type": "code",
   "execution_count": 12,
   "metadata": {},
   "outputs": [],
   "source": [
    "tech_data = tech_data[tech_data['Tech Company']!=0]"
   ]
  },
  {
   "cell_type": "code",
   "execution_count": 13,
   "metadata": {},
   "outputs": [],
   "source": [
    "tech_data = tech_data.drop(columns = 'Tech Company')"
   ]
  },
  {
   "cell_type": "code",
   "execution_count": 14,
   "metadata": {},
   "outputs": [
    {
     "data": {
      "text/plain": [
       "array(['Often', 'Rarely', 'Never', 'Sometimes', nan], dtype=object)"
      ]
     },
     "execution_count": 14,
     "metadata": {},
     "output_type": "execute_result"
    }
   ],
   "source": [
    "tech_data['Work Interfere'].unique()"
   ]
  },
  {
   "cell_type": "code",
   "execution_count": 15,
   "metadata": {},
   "outputs": [],
   "source": [
    "def ord_encoder_interfere(string):\n",
    "    if string == 'Often':\n",
    "        return 4\n",
    "    elif string == 'Sometimes':\n",
    "        return 3\n",
    "    elif string=='Rarely':\n",
    "        return 2\n",
    "    elif string == 'Never':\n",
    "        return 1"
   ]
  },
  {
   "cell_type": "code",
   "execution_count": 16,
   "metadata": {},
   "outputs": [],
   "source": [
    "def ord_encoder_consequence(string):\n",
    "    if string == 'No':\n",
    "        return -1\n",
    "    elif string == 'Maybe':\n",
    "        return 0\n",
    "    elif string == 'Yes':\n",
    "        return 1"
   ]
  },
  {
   "cell_type": "code",
   "execution_count": 17,
   "metadata": {},
   "outputs": [],
   "source": [
    "tech_data['Work Interfere Ordinal'] = tech_data['Work Interfere'].apply(ord_encoder_interfere)"
   ]
  },
  {
   "cell_type": "code",
   "execution_count": 18,
   "metadata": {},
   "outputs": [],
   "source": [
    "tech_data['Mental Health Consequences Ordinal'] = tech_data['Mental Health Consequences'].apply(ord_encoder_consequence)"
   ]
  },
  {
   "cell_type": "markdown",
   "metadata": {},
   "source": [
    "# Data Analysis & Results"
   ]
  },
  {
   "cell_type": "markdown",
   "metadata": {},
   "source": [
    "## Comparing Levels of Mental Health Work Interference and Gender"
   ]
  },
  {
   "cell_type": "markdown",
   "metadata": {},
   "source": [
    "This section focuses on comparing the survey participants' responses to the question: \"If you have a mental health condition, do you feel that it interferes with your work?\" \n",
    "\n",
    "The column ```'Work Interfere Ordinal'``` in the ```tech_data``` dataframe maps each level of perceived mental health work interference to a specific ordinal number: 'Never' to 1.0, 'Rarely' to 2.0, 'Sometimes' to 3.0, and 'Often' to 4.0. \n",
    "\n",
    "We analyze the data in a few different methods, first looking at counting numbers of male, female, and nonbinary employees' levels of mental health work interference, then comparing the proportion of each level of mental health work interference reported by different genders, and finally comparing the average reported level of mental health work interference by gender.\n",
    "\n",
    "There are no outliers present in our data because for the work interference question, the participants were given predefined answer choices to choose from, thus maintaining consistency in their answers. However, we noted that amongst the participants, there are a significantly higher number of male (637) participants in comparison to female (163) and non-binary participants (8). "
   ]
  },
  {
   "cell_type": "code",
   "execution_count": 19,
   "metadata": {},
   "outputs": [],
   "source": [
    "work_interference = tech_data[['Gender', 'Work Interfere Ordinal']]\n",
    "work_interference = work_interference.dropna(subset = ['Work Interfere Ordinal'])\n",
    "work_interference = work_interference.reset_index(drop = True)"
   ]
  },
  {
   "cell_type": "code",
   "execution_count": 20,
   "metadata": {},
   "outputs": [
    {
     "data": {
      "text/html": [
       "<div>\n",
       "<style scoped>\n",
       "    .dataframe tbody tr th:only-of-type {\n",
       "        vertical-align: middle;\n",
       "    }\n",
       "\n",
       "    .dataframe tbody tr th {\n",
       "        vertical-align: top;\n",
       "    }\n",
       "\n",
       "    .dataframe thead th {\n",
       "        text-align: right;\n",
       "    }\n",
       "</style>\n",
       "<table border=\"1\" class=\"dataframe\">\n",
       "  <thead>\n",
       "    <tr style=\"text-align: right;\">\n",
       "      <th></th>\n",
       "      <th>Gender</th>\n",
       "      <th>Work Interfere Ordinal</th>\n",
       "    </tr>\n",
       "  </thead>\n",
       "  <tbody>\n",
       "    <tr>\n",
       "      <th>0</th>\n",
       "      <td>F</td>\n",
       "      <td>4.0</td>\n",
       "    </tr>\n",
       "    <tr>\n",
       "      <th>1</th>\n",
       "      <td>M</td>\n",
       "      <td>2.0</td>\n",
       "    </tr>\n",
       "    <tr>\n",
       "      <th>2</th>\n",
       "      <td>M</td>\n",
       "      <td>4.0</td>\n",
       "    </tr>\n",
       "    <tr>\n",
       "      <th>3</th>\n",
       "      <td>M</td>\n",
       "      <td>1.0</td>\n",
       "    </tr>\n",
       "    <tr>\n",
       "      <th>4</th>\n",
       "      <td>M</td>\n",
       "      <td>3.0</td>\n",
       "    </tr>\n",
       "    <tr>\n",
       "      <th>...</th>\n",
       "      <td>...</td>\n",
       "      <td>...</td>\n",
       "    </tr>\n",
       "    <tr>\n",
       "      <th>803</th>\n",
       "      <td>M</td>\n",
       "      <td>3.0</td>\n",
       "    </tr>\n",
       "    <tr>\n",
       "      <th>804</th>\n",
       "      <td>M</td>\n",
       "      <td>4.0</td>\n",
       "    </tr>\n",
       "    <tr>\n",
       "      <th>805</th>\n",
       "      <td>M</td>\n",
       "      <td>3.0</td>\n",
       "    </tr>\n",
       "    <tr>\n",
       "      <th>806</th>\n",
       "      <td>M</td>\n",
       "      <td>4.0</td>\n",
       "    </tr>\n",
       "    <tr>\n",
       "      <th>807</th>\n",
       "      <td>M</td>\n",
       "      <td>3.0</td>\n",
       "    </tr>\n",
       "  </tbody>\n",
       "</table>\n",
       "<p>808 rows × 2 columns</p>\n",
       "</div>"
      ],
      "text/plain": [
       "    Gender  Work Interfere Ordinal\n",
       "0        F                     4.0\n",
       "1        M                     2.0\n",
       "2        M                     4.0\n",
       "3        M                     1.0\n",
       "4        M                     3.0\n",
       "..     ...                     ...\n",
       "803      M                     3.0\n",
       "804      M                     4.0\n",
       "805      M                     3.0\n",
       "806      M                     4.0\n",
       "807      M                     3.0\n",
       "\n",
       "[808 rows x 2 columns]"
      ]
     },
     "execution_count": 20,
     "metadata": {},
     "output_type": "execute_result"
    }
   ],
   "source": [
    "# df of all gender and non-null work interference survey responses\n",
    "# used for Fig. 1 visualization\n",
    "work_interference"
   ]
  },
  {
   "cell_type": "code",
   "execution_count": 21,
   "metadata": {},
   "outputs": [],
   "source": [
    "prop_work_int = work_interference[['Gender', 'Work Interfere Ordinal']].value_counts().reset_index(name='Proportion')\n",
    "prop_work_int = prop_work_int.sort_values(by = ['Gender', 'Work Interfere Ordinal'])\n",
    "prop_work_int = prop_work_int.reset_index(drop = True)\n",
    "\n",
    "def count_total(start_idx, end_idx):\n",
    "    total = 0\n",
    "    for i in range(start_idx, end_idx):\n",
    "        total += prop_work_int.at[i, 'Proportion']\n",
    "    return total\n",
    "\n",
    "total_f = count_total(0, 4)\n",
    "total_m = count_total(4, 8)\n",
    "total_nb = count_total(8, 11)\n",
    "\n",
    "def set_prop(start_idx, end_idx, total):\n",
    "    for i in range(start_idx, end_idx):\n",
    "        prop_work_int.at[i, 'Proportion'] /= total\n",
    "\n",
    "set_prop(0, 4, total_f)\n",
    "set_prop(4, 8, total_m)\n",
    "set_prop(8, 11, total_nb)"
   ]
  },
  {
   "cell_type": "code",
   "execution_count": 22,
   "metadata": {},
   "outputs": [
    {
     "data": {
      "text/html": [
       "<div>\n",
       "<style scoped>\n",
       "    .dataframe tbody tr th:only-of-type {\n",
       "        vertical-align: middle;\n",
       "    }\n",
       "\n",
       "    .dataframe tbody tr th {\n",
       "        vertical-align: top;\n",
       "    }\n",
       "\n",
       "    .dataframe thead th {\n",
       "        text-align: right;\n",
       "    }\n",
       "</style>\n",
       "<table border=\"1\" class=\"dataframe\">\n",
       "  <thead>\n",
       "    <tr style=\"text-align: right;\">\n",
       "      <th></th>\n",
       "      <th>Gender</th>\n",
       "      <th>Work Interfere Ordinal</th>\n",
       "      <th>Proportion</th>\n",
       "    </tr>\n",
       "  </thead>\n",
       "  <tbody>\n",
       "    <tr>\n",
       "      <th>0</th>\n",
       "      <td>F</td>\n",
       "      <td>1.0</td>\n",
       "      <td>0.104294</td>\n",
       "    </tr>\n",
       "    <tr>\n",
       "      <th>1</th>\n",
       "      <td>F</td>\n",
       "      <td>2.0</td>\n",
       "      <td>0.220859</td>\n",
       "    </tr>\n",
       "    <tr>\n",
       "      <th>2</th>\n",
       "      <td>F</td>\n",
       "      <td>3.0</td>\n",
       "      <td>0.527607</td>\n",
       "    </tr>\n",
       "    <tr>\n",
       "      <th>3</th>\n",
       "      <td>F</td>\n",
       "      <td>4.0</td>\n",
       "      <td>0.147239</td>\n",
       "    </tr>\n",
       "    <tr>\n",
       "      <th>4</th>\n",
       "      <td>M</td>\n",
       "      <td>1.0</td>\n",
       "      <td>0.248038</td>\n",
       "    </tr>\n",
       "    <tr>\n",
       "      <th>5</th>\n",
       "      <td>M</td>\n",
       "      <td>2.0</td>\n",
       "      <td>0.156986</td>\n",
       "    </tr>\n",
       "    <tr>\n",
       "      <th>6</th>\n",
       "      <td>M</td>\n",
       "      <td>3.0</td>\n",
       "      <td>0.461538</td>\n",
       "    </tr>\n",
       "    <tr>\n",
       "      <th>7</th>\n",
       "      <td>M</td>\n",
       "      <td>4.0</td>\n",
       "      <td>0.133438</td>\n",
       "    </tr>\n",
       "    <tr>\n",
       "      <th>8</th>\n",
       "      <td>NB</td>\n",
       "      <td>1.0</td>\n",
       "      <td>0.125000</td>\n",
       "    </tr>\n",
       "    <tr>\n",
       "      <th>9</th>\n",
       "      <td>NB</td>\n",
       "      <td>2.0</td>\n",
       "      <td>0.125000</td>\n",
       "    </tr>\n",
       "    <tr>\n",
       "      <th>10</th>\n",
       "      <td>NB</td>\n",
       "      <td>3.0</td>\n",
       "      <td>0.750000</td>\n",
       "    </tr>\n",
       "  </tbody>\n",
       "</table>\n",
       "</div>"
      ],
      "text/plain": [
       "   Gender  Work Interfere Ordinal  Proportion\n",
       "0       F                     1.0    0.104294\n",
       "1       F                     2.0    0.220859\n",
       "2       F                     3.0    0.527607\n",
       "3       F                     4.0    0.147239\n",
       "4       M                     1.0    0.248038\n",
       "5       M                     2.0    0.156986\n",
       "6       M                     3.0    0.461538\n",
       "7       M                     4.0    0.133438\n",
       "8      NB                     1.0    0.125000\n",
       "9      NB                     2.0    0.125000\n",
       "10     NB                     3.0    0.750000"
      ]
     },
     "execution_count": 22,
     "metadata": {},
     "output_type": "execute_result"
    }
   ],
   "source": [
    "# df of proportions of gender against mental health work interference\n",
    "prop_work_int"
   ]
  },
  {
   "cell_type": "code",
   "execution_count": 23,
   "metadata": {},
   "outputs": [],
   "source": [
    "data1 = [['F', 0.104294, 0.220859, 0.527607, 0.147239],\n",
    "        ['M', 0.248038, 0.156986, 0.461538, 0.133438],\n",
    "        ['NB', 0.125000, 0.125000, 0.750000, 0.000000]]\n",
    "prop_work_int2 = pd.DataFrame(data1, columns=['Gender', '1.0', '2.0', '3.0', '4.0'])"
   ]
  },
  {
   "cell_type": "code",
   "execution_count": 24,
   "metadata": {},
   "outputs": [
    {
     "data": {
      "text/html": [
       "<div>\n",
       "<style scoped>\n",
       "    .dataframe tbody tr th:only-of-type {\n",
       "        vertical-align: middle;\n",
       "    }\n",
       "\n",
       "    .dataframe tbody tr th {\n",
       "        vertical-align: top;\n",
       "    }\n",
       "\n",
       "    .dataframe thead th {\n",
       "        text-align: right;\n",
       "    }\n",
       "</style>\n",
       "<table border=\"1\" class=\"dataframe\">\n",
       "  <thead>\n",
       "    <tr style=\"text-align: right;\">\n",
       "      <th></th>\n",
       "      <th>Gender</th>\n",
       "      <th>1.0</th>\n",
       "      <th>2.0</th>\n",
       "      <th>3.0</th>\n",
       "      <th>4.0</th>\n",
       "    </tr>\n",
       "  </thead>\n",
       "  <tbody>\n",
       "    <tr>\n",
       "      <th>0</th>\n",
       "      <td>F</td>\n",
       "      <td>0.104294</td>\n",
       "      <td>0.220859</td>\n",
       "      <td>0.527607</td>\n",
       "      <td>0.147239</td>\n",
       "    </tr>\n",
       "    <tr>\n",
       "      <th>1</th>\n",
       "      <td>M</td>\n",
       "      <td>0.248038</td>\n",
       "      <td>0.156986</td>\n",
       "      <td>0.461538</td>\n",
       "      <td>0.133438</td>\n",
       "    </tr>\n",
       "    <tr>\n",
       "      <th>2</th>\n",
       "      <td>NB</td>\n",
       "      <td>0.125000</td>\n",
       "      <td>0.125000</td>\n",
       "      <td>0.750000</td>\n",
       "      <td>0.000000</td>\n",
       "    </tr>\n",
       "  </tbody>\n",
       "</table>\n",
       "</div>"
      ],
      "text/plain": [
       "  Gender       1.0       2.0       3.0       4.0\n",
       "0      F  0.104294  0.220859  0.527607  0.147239\n",
       "1      M  0.248038  0.156986  0.461538  0.133438\n",
       "2     NB  0.125000  0.125000  0.750000  0.000000"
      ]
     },
     "execution_count": 24,
     "metadata": {},
     "output_type": "execute_result"
    }
   ],
   "source": [
    "# df reorganizing proportions of gender against mental health work interference\n",
    "# used for Fig. 2 data visualization\n",
    "prop_work_int2"
   ]
  },
  {
   "cell_type": "code",
   "execution_count": 25,
   "metadata": {},
   "outputs": [],
   "source": [
    "def average(start_idx, end_idx):\n",
    "    sum_whatever = 0\n",
    "    total_gender = 0\n",
    "    for i in range(start_idx, end_idx):\n",
    "        total_gender += prop_work_int.at[i, 'Proportion']\n",
    "        sum_whatever += prop_work_int.at[i, 'Work Interfere Ordinal'] * prop_work_int.at[i, 'Proportion']\n",
    "    return sum_whatever/total_gender\n",
    "\n",
    "average_f = average(0, 4)\n",
    "average_m = average(4, 8)\n",
    "average_nb = average(9, 11)"
   ]
  },
  {
   "cell_type": "code",
   "execution_count": 26,
   "metadata": {},
   "outputs": [],
   "source": [
    "data2 = [['F', average_f], ['M', average_m], ['NB', average_nb]]\n",
    "average_work_int = pd.DataFrame(data2, columns=['Gender', 'Average Work Interference Ordinal'])"
   ]
  },
  {
   "cell_type": "code",
   "execution_count": 27,
   "metadata": {},
   "outputs": [
    {
     "data": {
      "text/html": [
       "<div>\n",
       "<style scoped>\n",
       "    .dataframe tbody tr th:only-of-type {\n",
       "        vertical-align: middle;\n",
       "    }\n",
       "\n",
       "    .dataframe tbody tr th {\n",
       "        vertical-align: top;\n",
       "    }\n",
       "\n",
       "    .dataframe thead th {\n",
       "        text-align: right;\n",
       "    }\n",
       "</style>\n",
       "<table border=\"1\" class=\"dataframe\">\n",
       "  <thead>\n",
       "    <tr style=\"text-align: right;\">\n",
       "      <th></th>\n",
       "      <th>Gender</th>\n",
       "      <th>Average Work Interference Ordinal</th>\n",
       "    </tr>\n",
       "  </thead>\n",
       "  <tbody>\n",
       "    <tr>\n",
       "      <th>0</th>\n",
       "      <td>F</td>\n",
       "      <td>2.717791</td>\n",
       "    </tr>\n",
       "    <tr>\n",
       "      <th>1</th>\n",
       "      <td>M</td>\n",
       "      <td>2.480377</td>\n",
       "    </tr>\n",
       "    <tr>\n",
       "      <th>2</th>\n",
       "      <td>NB</td>\n",
       "      <td>2.857143</td>\n",
       "    </tr>\n",
       "  </tbody>\n",
       "</table>\n",
       "</div>"
      ],
      "text/plain": [
       "  Gender  Average Work Interference Ordinal\n",
       "0      F                           2.717791\n",
       "1      M                           2.480377\n",
       "2     NB                           2.857143"
      ]
     },
     "execution_count": 27,
     "metadata": {},
     "output_type": "execute_result"
    }
   ],
   "source": [
    "# df comparing gender and average level of mental health work interference\n",
    "# used for Fig. 3 data visualization\n",
    "average_work_int"
   ]
  },
  {
   "cell_type": "markdown",
   "metadata": {},
   "source": [
    "### Figure 1"
   ]
  },
  {
   "cell_type": "markdown",
   "metadata": {},
   "source": [
    "This bar graph compares numbers of female, male, and non-binary employees by levels of mental health work interference."
   ]
  },
  {
   "cell_type": "code",
   "execution_count": 28,
   "metadata": {},
   "outputs": [
    {
     "data": {
      "text/plain": [
       "<AxesSubplot:xlabel='Work Interfere Ordinal', ylabel='count'>"
      ]
     },
     "execution_count": 28,
     "metadata": {},
     "output_type": "execute_result"
    },
    {
     "data": {
      "image/png": "[encoded data removed]",
      "text/plain": [
       "<Figure size 432x288 with 1 Axes>"
      ]
     },
     "metadata": {
      "needs_background": "light"
     },
     "output_type": "display_data"
    }
   ],
   "source": [
    "sns.countplot(data = work_interference, x = \"Work Interfere Ordinal\", hue = \"Gender\")"
   ]
  },
  {
   "cell_type": "markdown",
   "metadata": {},
   "source": [
    "### Figure 2"
   ]
  },
  {
   "cell_type": "markdown",
   "metadata": {},
   "source": [
    "This stacked bar plot compares proportions of perceived level of mental health and work interference among female, male, and non-binary employees."
   ]
  },
  {
   "cell_type": "code",
   "execution_count": 29,
   "metadata": {},
   "outputs": [
    {
     "data": {
      "text/plain": [
       "<function matplotlib.pyplot.show(close=None, block=None)>"
      ]
     },
     "execution_count": 29,
     "metadata": {},
     "output_type": "execute_result"
    },
    {
     "data": {
      "image/png": "[encoded data removed]",
      "text/plain": [
       "<Figure size 432x288 with 1 Axes>"
      ]
     },
     "metadata": {
      "needs_background": "light"
     },
     "output_type": "display_data"
    }
   ],
   "source": [
    "plot = prop_work_int2.set_index('Gender').plot(kind='bar', stacked=True, color=['red','yellow', 'pink', 'orange'])\n",
    "plot.set_xticklabels(plot.get_xticklabels(), rotation=0, ha=\"right\")\n",
    "plt.show"
   ]
  },
  {
   "cell_type": "markdown",
   "metadata": {},
   "source": [
    "### Figure 3"
   ]
  },
  {
   "cell_type": "markdown",
   "metadata": {},
   "source": [
    "This barplot compares averages of perceived mental health work interference among female, male, and non-binary employees."
   ]
  },
  {
   "cell_type": "code",
   "execution_count": 30,
   "metadata": {},
   "outputs": [
    {
     "data": {
      "text/plain": [
       "<AxesSubplot:xlabel='Gender', ylabel='Average Work Interference Ordinal'>"
      ]
     },
     "execution_count": 30,
     "metadata": {},
     "output_type": "execute_result"
    },
    {
     "data": {
      "image/png": "[encoded data removed]",
      "text/plain": [
       "<Figure size 432x288 with 1 Axes>"
      ]
     },
     "metadata": {
      "needs_background": "light"
     },
     "output_type": "display_data"
    }
   ],
   "source": [
    "sns.barplot(data = average_work_int, x='Gender', y='Average Work Interference Ordinal')"
   ]
  },
  {
   "cell_type": "markdown",
   "metadata": {},
   "source": [
    "For Figure 1, we created a bar plot that shows the number of responses for each level of perceived mental health work interference by gender group. This led to a bar plot that was not particularly helpful in determining if there was any correlation between gender and mental health work interference, as the large number of male participants caused the number of female and non binary participant responses to appear insignificant.\n",
    "\n",
    "With this significant difference in male, female, and nonbinary participants in mind, we decided to look at the proportions of each response by gender. We created a stacked bar plot to visualize the proportions of each level of perceived mental health work interference response among each gender group (Figure 2). Based on this plot, we noticed that a greater proportion of male respondents never felt any sense of work interference from their mental health, as shown by the greater block of red (1.0) shown in Figure 2. Both female and non-binary respondents commonly felt that their mental health interfered with their work, represented by the orange (4.0, often) and pink (3.0, sometimes) blocks.\n",
    "\n",
    "We also wanted to know, on average, if women reported higher mental health work interference than men. We used a bar plot to visualize the average level of perceived mental health work interference for each gender group (Figure 3). Based on this plot, we noticed that female and non-binary identifying individuals reported slightly higher mental health work interference on average than male employees."
   ]
  },
  {
   "cell_type": "markdown",
   "metadata": {},
   "source": [
    "## Comparing Employees' Levels of Comfort Discussing Mental Health and Gender\n"
   ]
  },
  {
   "cell_type": "markdown",
   "metadata": {},
   "source": [
    "This section focuses on the survey question, \"Do you think that discussing a mental health issue with your employer would have negative consequences?\" This is an important question regarding the research that we are analyzing. Our research question asks whether or not there is a difference between how comfortable women feel in terms of discussing their mental health issues with their employers as compared to men. As part of our hypothesis and background research, we believe that women would have more trouble opening up about these issues due to their fear of not being taken seriously, or being judged as they can be already undermined due to their gender. We will look through the data in this section while comparing the variables of \"Mental Heath Consequences\" with values of -1 for 'No', 0 for 'Maybe and 1 for 'Yes'. \"Gender\" has values of M for Male, F for Female, and NB for non-binary. "
   ]
  },
  {
   "cell_type": "markdown",
   "metadata": {},
   "source": [
    "Here we look at the columns that consist of the variables we are focusing on: "
   ]
  },
  {
   "cell_type": "code",
   "execution_count": 31,
   "metadata": {},
   "outputs": [
    {
     "data": {
      "text/html": [
       "<div>\n",
       "<style scoped>\n",
       "    .dataframe tbody tr th:only-of-type {\n",
       "        vertical-align: middle;\n",
       "    }\n",
       "\n",
       "    .dataframe tbody tr th {\n",
       "        vertical-align: top;\n",
       "    }\n",
       "\n",
       "    .dataframe thead th {\n",
       "        text-align: right;\n",
       "    }\n",
       "</style>\n",
       "<table border=\"1\" class=\"dataframe\">\n",
       "  <thead>\n",
       "    <tr style=\"text-align: right;\">\n",
       "      <th></th>\n",
       "      <th>Mental Health Consequences Ordinal</th>\n",
       "      <th>Gender</th>\n",
       "    </tr>\n",
       "  </thead>\n",
       "  <tbody>\n",
       "    <tr>\n",
       "      <th>0</th>\n",
       "      <td>-1</td>\n",
       "      <td>F</td>\n",
       "    </tr>\n",
       "    <tr>\n",
       "      <th>2</th>\n",
       "      <td>-1</td>\n",
       "      <td>M</td>\n",
       "    </tr>\n",
       "    <tr>\n",
       "      <th>3</th>\n",
       "      <td>1</td>\n",
       "      <td>M</td>\n",
       "    </tr>\n",
       "    <tr>\n",
       "      <th>4</th>\n",
       "      <td>-1</td>\n",
       "      <td>M</td>\n",
       "    </tr>\n",
       "    <tr>\n",
       "      <th>5</th>\n",
       "      <td>-1</td>\n",
       "      <td>M</td>\n",
       "    </tr>\n",
       "    <tr>\n",
       "      <th>...</th>\n",
       "      <td>...</td>\n",
       "      <td>...</td>\n",
       "    </tr>\n",
       "    <tr>\n",
       "      <th>1240</th>\n",
       "      <td>1</td>\n",
       "      <td>M</td>\n",
       "    </tr>\n",
       "    <tr>\n",
       "      <th>1242</th>\n",
       "      <td>-1</td>\n",
       "      <td>M</td>\n",
       "    </tr>\n",
       "    <tr>\n",
       "      <th>1243</th>\n",
       "      <td>-1</td>\n",
       "      <td>M</td>\n",
       "    </tr>\n",
       "    <tr>\n",
       "      <th>1244</th>\n",
       "      <td>1</td>\n",
       "      <td>M</td>\n",
       "    </tr>\n",
       "    <tr>\n",
       "      <th>1245</th>\n",
       "      <td>1</td>\n",
       "      <td>F</td>\n",
       "    </tr>\n",
       "  </tbody>\n",
       "</table>\n",
       "<p>1023 rows × 2 columns</p>\n",
       "</div>"
      ],
      "text/plain": [
       "      Mental Health Consequences Ordinal Gender\n",
       "0                                     -1      F\n",
       "2                                     -1      M\n",
       "3                                      1      M\n",
       "4                                     -1      M\n",
       "5                                     -1      M\n",
       "...                                  ...    ...\n",
       "1240                                   1      M\n",
       "1242                                  -1      M\n",
       "1243                                  -1      M\n",
       "1244                                   1      M\n",
       "1245                                   1      F\n",
       "\n",
       "[1023 rows x 2 columns]"
      ]
     },
     "execution_count": 31,
     "metadata": {},
     "output_type": "execute_result"
    }
   ],
   "source": [
    "gender_consequence = tech_data[['Mental Health Consequences Ordinal', 'Gender']]\n",
    "# Extracting only the Ordinal Mental Health Consequences and Gender Columns \n",
    "gender_consequence"
   ]
  },
  {
   "cell_type": "markdown",
   "metadata": {},
   "source": [
    "The next code looks at the means of each gendered group: "
   ]
  },
  {
   "cell_type": "code",
   "execution_count": 32,
   "metadata": {},
   "outputs": [
    {
     "data": {
      "text/html": [
       "<div>\n",
       "<style scoped>\n",
       "    .dataframe tbody tr th:only-of-type {\n",
       "        vertical-align: middle;\n",
       "    }\n",
       "\n",
       "    .dataframe tbody tr th {\n",
       "        vertical-align: top;\n",
       "    }\n",
       "\n",
       "    .dataframe thead th {\n",
       "        text-align: right;\n",
       "    }\n",
       "</style>\n",
       "<table border=\"1\" class=\"dataframe\">\n",
       "  <thead>\n",
       "    <tr style=\"text-align: right;\">\n",
       "      <th></th>\n",
       "      <th>Mental Health Consequences Ordinal</th>\n",
       "    </tr>\n",
       "    <tr>\n",
       "      <th>Gender</th>\n",
       "      <th></th>\n",
       "    </tr>\n",
       "  </thead>\n",
       "  <tbody>\n",
       "    <tr>\n",
       "      <th>NB</th>\n",
       "      <td>0.250000</td>\n",
       "    </tr>\n",
       "    <tr>\n",
       "      <th>F</th>\n",
       "      <td>-0.057592</td>\n",
       "    </tr>\n",
       "    <tr>\n",
       "      <th>M</th>\n",
       "      <td>-0.240291</td>\n",
       "    </tr>\n",
       "  </tbody>\n",
       "</table>\n",
       "</div>"
      ],
      "text/plain": [
       "        Mental Health Consequences Ordinal\n",
       "Gender                                    \n",
       "NB                                0.250000\n",
       "F                                -0.057592\n",
       "M                                -0.240291"
      ]
     },
     "execution_count": 32,
     "metadata": {},
     "output_type": "execute_result"
    }
   ],
   "source": [
    "#Group means of Mental Health Consequences Ordinal\n",
    "grouped_gender = gender_consequence.groupby('Gender').mean().sort_values(by = 'Mental Health Consequences Ordinal', ascending = False)\n",
    "grouped_gender"
   ]
  },
  {
   "cell_type": "markdown",
   "metadata": {},
   "source": [
    "Here we have a bar plot to observe the results of the mean responses from the gendered groups. "
   ]
  },
  {
   "cell_type": "code",
   "execution_count": 33,
   "metadata": {},
   "outputs": [
    {
     "data": {
      "text/plain": [
       "<AxesSubplot:xlabel='Gender', ylabel='Mental Health Consequences Ordinal'>"
      ]
     },
     "execution_count": 33,
     "metadata": {},
     "output_type": "execute_result"
    },
    {
     "data": {
      "image/png": "[encoded data removed]",
      "text/plain": [
       "<Figure size 432x288 with 1 Axes>"
      ]
     },
     "metadata": {
      "needs_background": "light"
     },
     "output_type": "display_data"
    }
   ],
   "source": [
    "#shows the difference in mean values between the three gender identities\n",
    "sns.barplot(data = grouped_gender.reset_index(), x = 'Gender', y = 'Mental Health Consequences Ordinal')"
   ]
  },
  {
   "cell_type": "markdown",
   "metadata": {},
   "source": [
    "See above that Non-Binary identifying employees have the highest average, followed by Female-identifying. remember that -1 is no, don't feel like their employers will fault discussions about mental health and 1 is yes, feel like there are consequences to discussions regarding mental health. we see that F and NB are closer to 1 than M employees, meaning that there's a discrepancy between gender identity but we'll investigate that further.This could further validate our hypothesis when it comes to the differentiation of comfortability between the genders when discussing mental health with employers. "
   ]
  },
  {
   "cell_type": "markdown",
   "metadata": {},
   "source": [
    "### Now, we are comparing non-males and males (One group of F and NB, other group is M)"
   ]
  },
  {
   "cell_type": "markdown",
   "metadata": {},
   "source": [
    "Here we have the mean of responses from males. "
   ]
  },
  {
   "cell_type": "code",
   "execution_count": 34,
   "metadata": {},
   "outputs": [
    {
     "data": {
      "text/plain": [
       "-0.24029126213592233"
      ]
     },
     "execution_count": 34,
     "metadata": {},
     "output_type": "execute_result"
    }
   ],
   "source": [
    "# Mean of mental health consequences value for males\n",
    "m_mean = gender_consequence[gender_consequence.Gender=='M']['Mental Health Consequences Ordinal'].mean()\n",
    "m_mean"
   ]
  },
  {
   "cell_type": "markdown",
   "metadata": {},
   "source": [
    "Here we have the mean of responses from non-males. "
   ]
  },
  {
   "cell_type": "code",
   "execution_count": 35,
   "metadata": {},
   "outputs": [
    {
     "data": {
      "text/plain": [
       "-0.04522613065326633"
      ]
     },
     "execution_count": 35,
     "metadata": {},
     "output_type": "execute_result"
    }
   ],
   "source": [
    "#Mean of mental health consequences value for non-males\n",
    "nonm_mean = gender_consequence[gender_consequence.Gender!='M']['Mental Health Consequences Ordinal'].mean()\n",
    "nonm_mean"
   ]
  },
  {
   "cell_type": "markdown",
   "metadata": {},
   "source": [
    "The difference of mean of males - mean of non-males"
   ]
  },
  {
   "cell_type": "code",
   "execution_count": 36,
   "metadata": {},
   "outputs": [],
   "source": [
    "#Difference of the means (Male vs. Non-Male)\n",
    "obs = nonm_mean - m_mean"
   ]
  },
  {
   "cell_type": "code",
   "execution_count": 37,
   "metadata": {},
   "outputs": [
    {
     "data": {
      "text/plain": [
       "0.195065131482656"
      ]
     },
     "execution_count": 37,
     "metadata": {},
     "output_type": "execute_result"
    }
   ],
   "source": [
    "obs"
   ]
  },
  {
   "cell_type": "markdown",
   "metadata": {},
   "source": [
    "### Now, we are looking at the means visually with histograms. "
   ]
  },
  {
   "cell_type": "markdown",
   "metadata": {},
   "source": [
    "Histogram of the mean responses from female employees. Remember -1 is \"No\", 0 is \"Maybe\" and 1 is \"Yes\" to the answer of being comfortable discussing mental health issues with employers without facing consequences. "
   ]
  },
  {
   "cell_type": "code",
   "execution_count": 38,
   "metadata": {},
   "outputs": [
    {
     "data": {
      "text/plain": [
       "<AxesSubplot:xlabel='Mental Health Consequences Ordinal', ylabel='Count'>"
      ]
     },
     "execution_count": 38,
     "metadata": {},
     "output_type": "execute_result"
    },
    {
     "data": {
      "image/png": "[encoded data removed]",
      "text/plain": [
       "<Figure size 432x288 with 1 Axes>"
      ]
     },
     "metadata": {
      "needs_background": "light"
     },
     "output_type": "display_data"
    }
   ],
   "source": [
    "#histograms of ordinal mental health consequences for females\n",
    "sns.histplot(gender_consequence[gender_consequence.Gender=='F'], x = 'Mental Health Consequences Ordinal', discrete = True)\n"
   ]
  },
  {
   "cell_type": "markdown",
   "metadata": {},
   "source": [
    "Histogram of the mean responses from non-binary employees. "
   ]
  },
  {
   "cell_type": "code",
   "execution_count": 39,
   "metadata": {},
   "outputs": [
    {
     "data": {
      "text/plain": [
       "<AxesSubplot:xlabel='Mental Health Consequences Ordinal', ylabel='Count'>"
      ]
     },
     "execution_count": 39,
     "metadata": {},
     "output_type": "execute_result"
    },
    {
     "data": {
      "image/png": "[encoded data removed]",
      "text/plain": [
       "<Figure size 432x288 with 1 Axes>"
      ]
     },
     "metadata": {
      "needs_background": "light"
     },
     "output_type": "display_data"
    }
   ],
   "source": [
    "#histograms of ordinal mental health consequences for Non-Binary folks\n",
    "sns.histplot(gender_consequence[gender_consequence.Gender=='NB'],x = 'Mental Health Consequences Ordinal', discrete = True)\n"
   ]
  },
  {
   "cell_type": "markdown",
   "metadata": {},
   "source": [
    "Histogram of the mean responses from male employees. "
   ]
  },
  {
   "cell_type": "code",
   "execution_count": 40,
   "metadata": {},
   "outputs": [
    {
     "data": {
      "text/plain": [
       "<AxesSubplot:xlabel='Mental Health Consequences Ordinal', ylabel='Count'>"
      ]
     },
     "execution_count": 40,
     "metadata": {},
     "output_type": "execute_result"
    },
    {
     "data": {
      "image/png": "[encoded data removed]",
      "text/plain": [
       "<Figure size 432x288 with 1 Axes>"
      ]
     },
     "metadata": {
      "needs_background": "light"
     },
     "output_type": "display_data"
    }
   ],
   "source": [
    "#histograms of ordinal mental health consequences for Males\n",
    "sns.histplot(gender_consequence[gender_consequence.Gender=='M'],x = 'Mental Health Consequences Ordinal', discrete = True)"
   ]
  },
  {
   "cell_type": "markdown",
   "metadata": {},
   "source": [
    "The above 3 histograms give an idea of how each gender identity feels about the consequences of discussing mental health with their employer. F shows a somewhat normal distribution with responses being emphasized with \"Maybe\" responses, while NB is left skewed and M is right skewed. We can see that males are more confident in believing that they are able to confide their mental health issues with employers as opposed to females and non-binary people."
   ]
  },
  {
   "cell_type": "markdown",
   "metadata": {},
   "source": [
    "We wanted to test if this difference of values is statistically significant or due to random chance. Thus, we perform a hypothesis test. Our null and alternative hypotheses are as follows:\n",
    "\n",
    "Null: Males vs. Non-Males feel the same about whether their employers will fault them for discussing mental health. Any difference is due to random chance\n",
    "\n",
    "Alternative Hypothesis: Non-Males are more likely to believe that their employers will fault them for discussing mental health."
   ]
  },
  {
   "cell_type": "code",
   "execution_count": 41,
   "metadata": {},
   "outputs": [],
   "source": [
    "# Digging deeper to do hypothesis test of whether the observed difference is statistically significant:\n",
    "gender_copy = gender_consequence.copy() #creating a copy of the gender_consequence df\n",
    "results = [] # empty array to store results\n",
    "#1000 iterations of the test\n",
    "for _ in range(1000):\n",
    "    gender_copy['Gender'] = np.random.permutation(gender_copy['Gender']) # shuffle the gender column at random\n",
    "    cur_m_mean = gender_copy[gender_copy.Gender=='M']['Mental Health Consequences Ordinal'].mean() # compute male mean\n",
    "    cur_nonm_mean = gender_copy[gender_copy.Gender!='M']['Mental Health Consequences Ordinal'].mean() #compute non-male mean\n",
    "    test_diff = cur_nonm_mean-cur_m_mean #compute diff in non-male and male mean\n",
    "    results += [test_diff] # append the current test statistic to the results array\n",
    "p_val = (np.array(results)>=obs).mean() #compute the p-val for our test"
   ]
  },
  {
   "cell_type": "code",
   "execution_count": 42,
   "metadata": {},
   "outputs": [
    {
     "data": {
      "text/plain": [
       "0.0"
      ]
     },
     "execution_count": 42,
     "metadata": {},
     "output_type": "execute_result"
    }
   ],
   "source": [
    "p_val"
   ]
  },
  {
   "cell_type": "markdown",
   "metadata": {},
   "source": [
    "Our hypothesis test shows that our observed difference in means is statistically significant difference at the 1% significance level. That is, we reject our null hypothesis that males and non-males feel the same about the possibility of facing consequences for discussing mental health. "
   ]
  },
  {
   "cell_type": "markdown",
   "metadata": {},
   "source": [
    "This section gives us clarification with our research question and seems to possible validate our hypothesis, that the different genders do in fact have differences in how comfortable disussing mental health issues without the fear of facing negative consequences. Through data analysis, we can see that there is a difference between the responses given by men, women, and non-binary employees. It seems that men are more comfortable with possibly discussing mental health issues with their employees without the fear of facing negative consequences, which raises the question of why, and if this has anything to do with the possible differences in experience between men and women in the tech industry. "
   ]
  },
  {
   "cell_type": "markdown",
   "metadata": {},
   "source": [
    "# Comparing Levels of Seeking Mental Health Treatment and Gender"
   ]
  },
  {
   "cell_type": "markdown",
   "metadata": {},
   "source": [
    "This next section will looks at the comparison between survey participant’s responses that answered the question “have you sought treatment for a mental health condition?” \n",
    "\n",
    "In the tech_data dataframe the column 'Sought Treatment' records each participant's response with a specifc ordinal number: 'Yes' is 1, 'No' is 0.\n",
    "\n",
    "We will analyze the data by first counting the number of the participants' responses and differentiating these repsonses depending on the gender of the participant. The second way we will analyze this data further by getting the proportion of each gender and their responses due to ther higher number of male responses(637) with female responses(163) and nonbinary responses(8).\n",
    "\n",
    "This data does not contain any outliers since it was a yes or no question in the survey."
   ]
  },
  {
   "cell_type": "code",
   "execution_count": 43,
   "metadata": {},
   "outputs": [],
   "source": [
    "sought_treatment = tech_data[['Gender', 'Sought Treatment']]\n",
    "sought_treatment = sought_treatment.dropna(subset = ['Sought Treatment'])\n",
    "sought_treatment = sought_treatment.reset_index(drop = True)"
   ]
  },
  {
   "cell_type": "code",
   "execution_count": 44,
   "metadata": {},
   "outputs": [
    {
     "data": {
      "text/html": [
       "<div>\n",
       "<style scoped>\n",
       "    .dataframe tbody tr th:only-of-type {\n",
       "        vertical-align: middle;\n",
       "    }\n",
       "\n",
       "    .dataframe tbody tr th {\n",
       "        vertical-align: top;\n",
       "    }\n",
       "\n",
       "    .dataframe thead th {\n",
       "        text-align: right;\n",
       "    }\n",
       "</style>\n",
       "<table border=\"1\" class=\"dataframe\">\n",
       "  <thead>\n",
       "    <tr style=\"text-align: right;\">\n",
       "      <th></th>\n",
       "      <th>Gender</th>\n",
       "      <th>Sought Treatment</th>\n",
       "    </tr>\n",
       "  </thead>\n",
       "  <tbody>\n",
       "    <tr>\n",
       "      <th>0</th>\n",
       "      <td>F</td>\n",
       "      <td>1</td>\n",
       "    </tr>\n",
       "    <tr>\n",
       "      <th>1</th>\n",
       "      <td>M</td>\n",
       "      <td>0</td>\n",
       "    </tr>\n",
       "    <tr>\n",
       "      <th>2</th>\n",
       "      <td>M</td>\n",
       "      <td>1</td>\n",
       "    </tr>\n",
       "    <tr>\n",
       "      <th>3</th>\n",
       "      <td>M</td>\n",
       "      <td>0</td>\n",
       "    </tr>\n",
       "    <tr>\n",
       "      <th>4</th>\n",
       "      <td>M</td>\n",
       "      <td>0</td>\n",
       "    </tr>\n",
       "    <tr>\n",
       "      <th>...</th>\n",
       "      <td>...</td>\n",
       "      <td>...</td>\n",
       "    </tr>\n",
       "    <tr>\n",
       "      <th>1018</th>\n",
       "      <td>M</td>\n",
       "      <td>1</td>\n",
       "    </tr>\n",
       "    <tr>\n",
       "      <th>1019</th>\n",
       "      <td>M</td>\n",
       "      <td>1</td>\n",
       "    </tr>\n",
       "    <tr>\n",
       "      <th>1020</th>\n",
       "      <td>M</td>\n",
       "      <td>1</td>\n",
       "    </tr>\n",
       "    <tr>\n",
       "      <th>1021</th>\n",
       "      <td>M</td>\n",
       "      <td>1</td>\n",
       "    </tr>\n",
       "    <tr>\n",
       "      <th>1022</th>\n",
       "      <td>F</td>\n",
       "      <td>0</td>\n",
       "    </tr>\n",
       "  </tbody>\n",
       "</table>\n",
       "<p>1023 rows × 2 columns</p>\n",
       "</div>"
      ],
      "text/plain": [
       "     Gender  Sought Treatment\n",
       "0         F                 1\n",
       "1         M                 0\n",
       "2         M                 1\n",
       "3         M                 0\n",
       "4         M                 0\n",
       "...     ...               ...\n",
       "1018      M                 1\n",
       "1019      M                 1\n",
       "1020      M                 1\n",
       "1021      M                 1\n",
       "1022      F                 0\n",
       "\n",
       "[1023 rows x 2 columns]"
      ]
     },
     "execution_count": 44,
     "metadata": {},
     "output_type": "execute_result"
    }
   ],
   "source": [
    "sought_treatment"
   ]
  },
  {
   "cell_type": "markdown",
   "metadata": {},
   "source": [
    "### Figure 1"
   ]
  },
  {
   "cell_type": "markdown",
   "metadata": {},
   "source": [
    "This figure counts the number of yes or no responses on whether or not they sought treatment depending on gender."
   ]
  },
  {
   "cell_type": "code",
   "execution_count": 45,
   "metadata": {},
   "outputs": [
    {
     "data": {
      "text/plain": [
       "<AxesSubplot:xlabel='Sought Treatment', ylabel='count'>"
      ]
     },
     "execution_count": 45,
     "metadata": {},
     "output_type": "execute_result"
    },
    {
     "data": {
      "image/png": "[encoded data removed]",
      "text/plain": [
       "<Figure size 432x288 with 1 Axes>"
      ]
     },
     "metadata": {
      "needs_background": "light"
     },
     "output_type": "display_data"
    }
   ],
   "source": [
    "sns.countplot(data = sought_treatment, x = \"Sought Treatment\", hue = \"Gender\")"
   ]
  },
  {
   "cell_type": "code",
   "execution_count": 46,
   "metadata": {},
   "outputs": [],
   "source": [
    "treatment = pd.DataFrame({'Gender':['F','F','M','M', 'NB', 'NB'],\n",
    "                       'Sought Treatment':['1', '0', '1', '0', '1', '0']})\n",
    "treatment = treatment.sort_values('Gender', ascending=True)\n",
    "\n",
    "treatment = tech_data.groupby('Gender')['Sought Treatment'].value_counts().reset_index(name='prop')\n",
    "femalesum=treatment.groupby('Gender')['prop'].sum()['F']\n",
    "malesum=treatment.groupby('Gender')['prop'].sum()['M']\n",
    "nbsum= treatment.groupby('Gender')['prop'].sum()['NB']\n",
    "\n",
    "treatment.loc[0, 'prop'] = treatment.loc[0, 'prop'] / femalesum\n",
    "treatment.loc[1, 'prop'] = treatment.loc[1, 'prop'] / femalesum\n",
    "treatment.loc[2, 'prop'] = treatment.loc[2, 'prop'] / malesum\n",
    "treatment.loc[3, 'prop'] = treatment.loc[3, 'prop'] / malesum\n",
    "treatment.loc[4, 'prop'] = treatment.loc[2, 'prop'] / nbsum\n",
    "treatment.loc[5, 'prop'] = treatment.loc[3, 'prop'] / nbsum\n"
   ]
  },
  {
   "cell_type": "code",
   "execution_count": 47,
   "metadata": {},
   "outputs": [
    {
     "data": {
      "text/html": [
       "<div>\n",
       "<style scoped>\n",
       "    .dataframe tbody tr th:only-of-type {\n",
       "        vertical-align: middle;\n",
       "    }\n",
       "\n",
       "    .dataframe tbody tr th {\n",
       "        vertical-align: top;\n",
       "    }\n",
       "\n",
       "    .dataframe thead th {\n",
       "        text-align: right;\n",
       "    }\n",
       "</style>\n",
       "<table border=\"1\" class=\"dataframe\">\n",
       "  <thead>\n",
       "    <tr style=\"text-align: right;\">\n",
       "      <th></th>\n",
       "      <th>Gender</th>\n",
       "      <th>Sought Treatment</th>\n",
       "      <th>prop</th>\n",
       "    </tr>\n",
       "  </thead>\n",
       "  <tbody>\n",
       "    <tr>\n",
       "      <th>0</th>\n",
       "      <td>F</td>\n",
       "      <td>1</td>\n",
       "      <td>0.685864</td>\n",
       "    </tr>\n",
       "    <tr>\n",
       "      <th>1</th>\n",
       "      <td>F</td>\n",
       "      <td>0</td>\n",
       "      <td>0.314136</td>\n",
       "    </tr>\n",
       "    <tr>\n",
       "      <th>2</th>\n",
       "      <td>M</td>\n",
       "      <td>0</td>\n",
       "      <td>0.549757</td>\n",
       "    </tr>\n",
       "    <tr>\n",
       "      <th>3</th>\n",
       "      <td>M</td>\n",
       "      <td>1</td>\n",
       "      <td>0.450243</td>\n",
       "    </tr>\n",
       "    <tr>\n",
       "      <th>4</th>\n",
       "      <td>NB</td>\n",
       "      <td>1</td>\n",
       "      <td>0.068720</td>\n",
       "    </tr>\n",
       "    <tr>\n",
       "      <th>5</th>\n",
       "      <td>NB</td>\n",
       "      <td>0</td>\n",
       "      <td>0.056280</td>\n",
       "    </tr>\n",
       "  </tbody>\n",
       "</table>\n",
       "</div>"
      ],
      "text/plain": [
       "  Gender  Sought Treatment      prop\n",
       "0      F                 1  0.685864\n",
       "1      F                 0  0.314136\n",
       "2      M                 0  0.549757\n",
       "3      M                 1  0.450243\n",
       "4     NB                 1  0.068720\n",
       "5     NB                 0  0.056280"
      ]
     },
     "execution_count": 47,
     "metadata": {},
     "output_type": "execute_result"
    }
   ],
   "source": [
    "treatment"
   ]
  },
  {
   "cell_type": "markdown",
   "metadata": {},
   "source": [
    "### Figure 2"
   ]
  },
  {
   "cell_type": "markdown",
   "metadata": {},
   "source": [
    "This figure also comapres the yes or no responses to the same survey question but takes into account the proportion of genders."
   ]
  },
  {
   "cell_type": "code",
   "execution_count": 48,
   "metadata": {},
   "outputs": [
    {
     "data": {
      "text/plain": [
       "<AxesSubplot:xlabel='Sought Treatment', ylabel='prop'>"
      ]
     },
     "execution_count": 48,
     "metadata": {},
     "output_type": "execute_result"
    },
    {
     "data": {
      "image/png": "[encoded data removed]",
      "text/plain": [
       "<Figure size 432x288 with 1 Axes>"
      ]
     },
     "metadata": {
      "needs_background": "light"
     },
     "output_type": "display_data"
    }
   ],
   "source": [
    "plot_proportion = sns.barplot(data=treatment, x=treatment['Sought Treatment'], y=treatment['prop'], hue=treatment['Gender'])\n",
    "\n",
    "plot_proportion"
   ]
  },
  {
   "cell_type": "markdown",
   "metadata": {},
   "source": [
    "In figure 1, we created a count box that demonstrated how men are more likely to seek treatment but this graph does not take into account the proportions.Since it does not take into account the proportions the number of men who sought treatment is much higher compared to the female and nonbinary people. \n",
    "\n",
    "Taking into consideration of the proportions for genders, figure 2 demonstrates how female and nonbinary  identifying people often seek more mental health treatment despite the number of female/nonbinary employees being so low compared to the male employee. "
   ]
  },
  {
   "cell_type": "markdown",
   "metadata": {},
   "source": [
    "# Ethics & Privacy"
   ]
  },
  {
   "cell_type": "markdown",
   "metadata": {},
   "source": [
    "We retrieved our data set from Kaggle, which was scraped from Open Sourcing Mental Health (OSMH, https://osmhhelp.org/index.html), a non-profit organization dedicated to furthering and opening up the discussion of mental health within the technology community. Yearly, from 2014 to 2022 (excluding 2015), OSMH releases a survey to gather data about mental health within tech workers. The data was gathered ethically; the greatest ethical risk is discomfort answering questions regarding mental health discussions within the workplace, which is outweighed by the benefit of the research: understanding the attitude towards the issue. The survey was carried out through Google Form format, which was voluntary, giving respondents the opportunity to opt out whenever desired.\n",
    "\n",
    "The survey allowed respondents to anonymously report various aspects of mental health within the industry and workplace. The anonymity of the Google Form eliminates direct preventable privacy risks, although it still is at the mercy of third party onlookers (for example, if an employee completing the survey at work was noticed by a coworker/employer). No directly identifiable data was collected from the survey—no questions regarding company, name, or contact information. Indirect identifiable information collected includes age and general geographical location (country and state/territory if located in the US), which cannot be narrowed down to individual specific levels.\n",
    "\n",
    "There are, however, biases associated with the research. Because the data was self-reported, the survey allowed for potentially invalid and falsified pieces of information, particularly with the open ended questions (such as age and gender). \n",
    "As the research was conducted online, there is the potential for falsified data via bots as well. Additionally, there are significantly more male-identifying respondents compared to female and nonbinary/genderqueer respondents, which may result in poor representation due to low coverage. However, it must be acknowledged that the technology industry is male dominated, which can explain the gap in representation. \n",
    "\n",
    "While wrangling and cleaning the data, we are able to remove/substitute the obviously fake information, such as when respondents answered age with negative values or unrealistically large numbers. In regards to the uneven numbers of male to non-male respondents, while analyzing data, we looked at answers in proportions of gender breakdown rather than solely numbers—this way, we are able to compare rates of mental health and work effects through portions of a whole, rather than comparing significantly different numbers of male, female, and non-binary employees. Taking averages of quantitative values and ordinal values of qualitative values also allowed us to analyze data in a way that is not biased by imbalances in numbers of gendered respondents.\n"
   ]
  },
  {
   "cell_type": "markdown",
   "metadata": {},
   "source": [
    "# Conclusion & Discussion"
   ]
  },
  {
   "cell_type": "markdown",
   "metadata": {},
   "source": [
    "Through comparing levels of mental health interfering with employees' work, we were able to observe that non-males in the tech industry noticed a slightly greater level of work interference from their mental health. We created three plots to analyze this data: one to compare raw numbers of employees by gender and level of work interference, another to compare proportions of employees and their level of work interference, and the last to compare averages of interference levels across male, female, and non-binary employees. Ultimately, we determined that non-males experience a slightly greater level of work interference from their mental health, and that male employees are more likely to not experience any work mental health interference at all (signified by the 1.0, or \"Never\" responses). This result is interesting, illustrating that non-male employees in the tech industry are observed to experience more mental health to work interference not in intensity, but rather in frequency or proportion across the population. In other words, female and non-binary employees are more likely to be seen experiencing some sort of work interference through their mental health compared to their male counterparts. This observation is imperative in searching for and addressing potential harms in work environments that may influence non-male employees differently than male employees. \n",
    "\n",
    "One of the questions addressed in the survey was if the employees thought that they would face negative consequences if they were to share any mental health issues with their employers. Their responses gave us an insight in how comfortable the employees would be with sharing any issues, as we asked in our research question. We decided to analyze the survey responses by comparing the answers between employees by gender, and we used statistical tests and visual representations of our data to reach accurate conclusions. Based on our graphs, we observed that there were disparities between the genders (male, female, non-binary) in how comfortable they were in discussing their issues and combined with the statistical tests, there was a possible correlation between gender and comfort levels. We found that on average males were least likely to feel that they would face consequences, while female and non-binary employees were more likely to feel hesitant in discussing their mental health issues because of any possible consequences. When we used statistical testing, to see if this difference of values is statistically significant or due to random chance. The hypothesis test we conducted shows that our observed difference in means is a statistically significant difference at the 1% significance level. So, we reject the null hypothesis that males and non-male employees feel the same about the possibility of facing consequences for discussing mental health. Overall, we can say that there is a possible correlation between comfort levels and gender, with female and non-binary employees being less comfortable with discussing mental health issues in fear of facing consequences. It is crucial to discuss this issue as the tech industry is continuing to grow, however, the gender disparity still exists. Our findings are important as they find that there is a difference in comfortability between genders in expressing their issues, and that may be a part of a larger problem within the tech industry that needs to be addressed. Ultimately, all employees, regardless of gender, should feel comfortable discussing their mental health issues with their employees without facing any consequences. \n",
    "\n",
    "To get closer to answering our question about how experiences of women and men differ in terms of mental health issues/comfortability of discussing mental health issues we compared numbers between those who sought mental health treatment based on gender. Using this data we created two bar plots where one compared the number of people who sought mental health treatment based on gender and our second chart compared this number but took into account the proportion for each gender since the male ratio was far greater compared to the female and nonbinary ratio. The graphs demonstrated a clear understanding that participants’ who identified as female or nonbinary were more likely to seek mental health treatment compared to the male participants. We can say that women and nonbinary people feel more comfortable seeking treatment for mental health issues compared to male workers. Given that people who identify as female and nonbinary are more likely to seek treatment shows that they are also more likely to be struggling with mental health issues compared to their coworkers. This is an important topic to discuss due to the rise of the tech industry and increase in job opportunities yet despite this it continues to be a male dominated field,talking about these issues may lead to comfortability in a workspace. Given that the tech industry is under-represented with female and non-binary workers, talking about these issues might promote more diversity in tech companies.  \n",
    "\n",
    "Through all three topics of observation, we are able to conclude that males and non-males within the tech industry have significant differences in experience regarding mental health in the workplace. Male employees are observed to seek mental health treatment less than their female and non-binary counterparts, to experience less work interference from their mental health, and to feel more comfortable discussing mental health issues with their employers. There is a clear positive correlation between greater mental health struggles and non-male gender identification, although it is unclear as to the causes of such outcomes. To truly understand where such gaps in mental health discussions and topics come up, further research should be done to analyze work environments. The dataset that we referenced through this project focused primarily on outcomes—how different gendered employees' attitudes differed towards mental health in the workplace—not potential causes for such outcomes. For example, possible causes to look into would be whether employees felt discriminated against in the workplace due to their gender identity/expression, whether employees felt that their peers treated them differently based on their gender, etc. However, understanding and observing patterns of mental health across different employees within the tech field is an imperative first step to addressing any and all prejudice; as such, this field of research is crucial in supporting employees' mental wellness.\n"
   ]
  },
  {
   "cell_type": "markdown",
   "metadata": {},
   "source": [
    "# Team Contributions"
   ]
  },
  {
   "cell_type": "markdown",
   "metadata": {},
   "source": [
    "- Jennifer Jiang: planning research question and hypothesis, data checkpoint analysis, data visualization and analysis for comparing mental health work interference and gender, conclusion and discussion, final project slideshow and video\n",
    "\n",
    "\n",
    "- Hannah Ordonez: planning research question and hypothesis, data wrangling, data cleaning, data checkpoint analysis, data visualization and analysis for comparing mental health consequences and gender, conclusion and discussion, final project slideshow\n",
    "\n",
    "\n",
    "- Daniela Garcia: planning research question and hypothesis, background and prior work research, data visualization and analysis for comparing seeking treatment and gender, conclusion and discussion, final project slideshow\n",
    "\n",
    "\n",
    "- Ghada Barhoush: planning research question and hypothesis, background and prior work research, data visualization and analysis for comparing mental health consequences and gender, conclusion and discussion, final project slideshow\n",
    "\n",
    "\n",
    "- Stephanie Li: planning research question and hypothesis, overview, ethics and privacy, data visualization and analysis for comparing mental health work interference, conclusion and discussion, conclusion and discussion, final project slideshow\n",
    "\n",
    "\n",
    "- Cynthia Delira: planning research question and hypothesis, background and prior work research, data visualization and analysis for comparing seeking treatment and gender, conclusion and discussion, final project slideshow"
   ]
  },
  {
   "cell_type": "markdown",
   "metadata": {},
   "source": [
    "# Video Submission Location"
   ]
  },
  {
   "cell_type": "markdown",
   "metadata": {},
   "source": [
    "YouTube video link: https://www.youtube.com/watch?v=Z8qxDeBOMug"
   ]
  }
 ],
 "metadata": {
  "kernelspec": {
   "display_name": "Python 3 (ipykernel)",
   "language": "python",
   "name": "python3"
  },
  "language_info": {
   "codemirror_mode": {
    "name": "ipython",
    "version": 3
   },
   "file_extension": ".py",
   "mimetype": "text/x-python",
   "name": "python",
   "nbconvert_exporter": "python",
   "pygments_lexer": "ipython3",
   "version": "3.9.5"
  }
 },
 "nbformat": 4,
 "nbformat_minor": 2
}
