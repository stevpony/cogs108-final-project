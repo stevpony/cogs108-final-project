{
 "cells": [
  {
   "cell_type": "markdown",
   "metadata": {},
   "source": [
    "# COGS 108 - Final Project Proposal"
   ]
  },
  {
   "cell_type": "markdown",
   "metadata": {},
   "source": [
    "# Names\n",
    "\n",
    "- Jennifer Jiang\n",
    "- Hannah Ordonez\n",
    "- Daniela Garcia \n",
    "- Ghada Barhoush\n",
    "- Stephanie Li\n",
    "- Cynthia Delira"
   ]
  },
  {
   "cell_type": "markdown",
   "metadata": {},
   "source": [
    "# Research Question"
   ]
  },
  {
   "cell_type": "markdown",
   "metadata": {},
   "source": [
    "\n",
    "    - gender\n",
    "    - leave: How easy is it for you to take medical leave for a mental health condition?\n",
    "    - mental_health_consequence: Do you think that discussing a mental health issue with your employer would have negative consequences?\n",
    "    - coworkers: Would you be willing to discuss a mental health issue with your coworkers?\n",
    "    - supervisor: Would you be willing to discuss a mental health issue with your direct supervisor(s)?\n",
    "    - obs_consequence: Have you heard of or observed negative consequences for coworkers with mental health conditions in your workplace?\n",
    "\n",
    "Research Question:",
    "\n\n> How might the experiences of women and men differ in tech in terms of mental health issues/comfortability of discussing mental health issues?\n"
   ]
  },
  {
   "cell_type": "markdown",
   "metadata": {},
   "source": [
    "## Background and Prior Work"
   ]
  },
  {
   "cell_type": "markdown",
   "metadata": {},
   "source": [
    "Our project will focus on the prevalence of mental health issues within workplaces in the tech industry. We will specifically look at the mental health of female employees as we believe that gender discrimination is rampant within the tech industry. The gender discrimination that female employees face would likely have a great effect on their mental health, especially since they would want to be taken seriously and would be put under the stress of proving themselves. We also believe that with the stress of proving themselves, they would be less likely to admit that they are facing mental health issues in fear of being judged or not taken seriously. We have looked into existing studies that further reinforced our beliefs on this topic of the existence of gender discrimination within the tech industry.\n",
    "\n",
    "The paper, “Identifying and Overcoming Gender Barriers in Tech: A Field Experiment on Inaccurate Statistical Discrimination” [^Feld, Leibbrandt, Vecci] looked into the programming skills and performances of men and women and then researched the employers assessment of these skills. This paper had some interesting findings as well as reinforced our beliefs that gender discrimination does in fact exist in tech industries. The paper first looked into the skills and performances of job applicants, and found that there was no significant difference between how well the job applicants performed. Which would mean that the gender of the applicants did not matter as their skillsets are very similar. However, when it came to the employers view on those skills when provided with baseline information that includes gender, the employers were more likely to believe that the women performed worse than their male counterparts. This is serious, as it shows that gender discrimination in tech industries begins from the beginning stage, in the hiring process.It would also explain why there are less female employees than male employees in the tech industry. What was even more surprising and interesting, was that female employers were more likely to dismiss the female applicants’ performances. This could be for various several reasons, one of them potentially being that getting a higher position in a male-dominated workplace and having to prove themselves would have affected them in a way that causes them to judge the female applicants in a stricter manner. It is very likely that the women who actually get past the hiring stages would have to work harder to prove themselves and would find themselves in higher levels of stress. It is very likely that this proven level of gender discrimination would have an effect on the mental health of the female employees, especially since the study has reinforced the idea that the skills of female applicants are judged more critically and are seen as less impressive than the work of their male counterparts.\n", 
    "\n",
    "With the current industrial revolution that technology is going through there is a need for highly skilled and innovative developers. Women are encouraged to be in the technology industry with numbers showing that events such as recruitment and training are being held specifically for the number of women in tech to increase. Even with such encouragement, there is still gender bias, prejudices, and other attitudes towards women in the industry. Since the technological field is predominantly male-dominated the respondents in this study, women, are said to be suffering from low self-esteem and imposter syndrome [^Hyrynsalmi]. On top of the low representation of women in the technological field, women also do not frequent managerial positions with 11% of women holding officer roles in tech companies in the U.S. [^Hyrynsalmi]. The study found some women let self-doubt and uncertainty affect their attitude toward the tech industry, some fear age discrimination as well as clear gender bias while others feel neutral about gender bias. A lot is being done to mitigate such issues like offering peer support from other women, an increase in openness, and fostering more diversity in the tech industry. There’s no denying that there is still a lot of work that needs to be done so that women feel less insecure in this male-dominated field.\n",
    "\n",
    "It is without a doubt that the lack of women in technical roles is a problem that has led to not only women feeling unrepresented and unsupported but has led to negative mental health concerns that has an impact in not only their performance but for their own well being. In order to combat the negative mental health issues and lack of comfortability from women in the field there needs to be a strive to decrease the gender gap. To begin, one thing that is highlighted as an issue from tech companies is that women are not being promoted at the same rate as their male peers [^McKinsey]. In fact, according to an article by McKinsey and Company, “Repairing the broken rung on the career ladder for women in technical roles,” for every 100 men only 52 women are being promoted to manager in technical roles. This becomes an issue when women are not being prepared or trained for senior roles and can lead to financial burden and stress. In addition, women in manager and senior roles can lead to more representation and bring more support for women who are interested or are new to the field. To combat this problem, companies have started to build and create mentorship programs, inclusion training, as well as diversity and inclusion programs[^McKinsey] in order to help women better prepare and gain these early promotions as well as to help create more opportunities for women in the field.\n",
    "\n",
    "CITATIONS:\n",
    "\n",
    "[^Feld, Leibbrandt, Vecci]: Feld, J., Ip, E., Leibbrandt, A., & Vecci, J. (2022, October 7). Identifying and overcoming gender barriers in tech: A field experiment on inaccurate statistical discrimination. https://www.cesifo.org/en/publications/2022/working-paper/identifying-and-overcoming-gender-barriers-tech-field-experiment\n",
    "\n",
    "[^Hyrynsalmi]: Hyrynsalmi, S. ( May 2019) The Underrepresentation of Women in the Software Industry: Thoughts from Career-Changing Women. https://www.researchgate.net/publication/335496057_The_Underrepresentation_of_Women_in_the_Software_Industry_Thoughts_from_Career-Changing_Women\n",
    "\n",
    "[^McKinsey]: McKinsey & Company.(1 March 2022). Repairing the Broken Rung on the Career Ladder for Women in Technical Roles. https://www.mckinsey.com/industries/technology-media-and-telecommunications/our-insights/repairing-the-broken-rung-on-the-career-ladder-for-women-in-technical-roles."
    ]
  },
  {
   "cell_type": "markdown",
   "metadata": {},
   "source": [
    "# Hypothesis\n"
   ]
  },
  {
   "cell_type": "markdown",
   "metadata": {},
   "source": [
    "Female-identifying people in the tech industry are more likely to struggle with mental health issues and addressing those mental health gaps with their employer. Women are often a minority in the tech workplace and as a result may feel less comfortable reaching out to coworkers or employers. Additionally, they may experience gender discrimination or harassment from men in the workplace that can lead to a variety of mental health issues."
   ]
  },
  {
   "cell_type": "markdown",
   "metadata": {},
   "source": [
    "# Data"
   ]
  },
  {
   "cell_type": "markdown",
   "metadata": {},
   "source": [
    "Our ideal dataset to answer this question would be a data set that represents opinions and experiences from a random set of individuals of different genders and ages from different countries around the world. The participants’ experiences can be represented by several variables such as their comfortability with speaking to their employer or coworkers about mental health, whether the company offers mental health services, the size of the company they work for, whether the company is primarily a tech company, etc., all of which can be represented by a number on a scale or a yes/no answer. The data could be collected via an anonymous survey, with predefined answer choices that the participants could select for each question to maintain consistency in answers. Ideally, the people surveyed would be selected at random to ensure as accurate of a representation as possible. The data would be stored/organized in a spreadsheet with each column being a question in the survey and each row being a participant and their respective answers to the questions.\n",
    "Some potential real datasets that might be useful for our project:\n",
    "1. https://www.kaggle.com/datasets/osmi/mental-health-in-tech-survey: 2014 survey that measures attitudes towards mental health and frequency of mental health disorders in the tech workplace, includes survey responses from several different countries. (a) This data is publicly available for us to use. (b) This data differs from our ideal in a few ways. Some of the questions in the survey (ex. gender and age) were given in an open answer format, meaning that there were some wrongly inputted answers and outliers in the data. Additionally, it is likely that the data isn’t a random sample of the population.\n",
    "2. https://www.kaggle.com/datasets/osmi/mental-health-in-tech-2016: 2016 survey that measures attitudes towards mental health in the tech workplace, and examines the frequency of mental health disorders among tech workers. (a) This data is publicly available for us to use. (b) This dataset is very thorough in the questions that it asks the participants. However, there are quite a few null responses in the dataset due to the question not being applicable for certain participants. Similar to the previous dataset, there are also some questions that allowed for open answer responses, causing inconsistencies for certain variables."
   ]
  },
  {
   "cell_type": "markdown",
   "metadata": {},
   "source": [
    "# Ethics & Privacy"
   ]
  },
  {
   "cell_type": "markdown",
   "metadata": {},
   "source": [
    "-We retrieved our data set from Kaggle, which was scraped from Open Sourcing Mental Health (OSMH, https://osmhhelp.org/index.html), a non-profit organization dedicated to furthering and opening up the discussion of mental health within the technology community. Yearly, from 2014 to 2022 (excluding 2015), OSMH releases a survey to gather data about mental health within tech workers. The data was gathered ethically; the greatest ethical risk is discomfort answering questions regarding mental health discussions within the workplace, which is outweighed by the benefit of the research: understanding the attitude towards the issue. The survey was carried out through Google Form format, which was voluntary, giving respondents the opportunity to opt out whenever desired.\n",
    "\n",
    "The survey allowed respondents to anonymously report various aspects of mental health within the industry and workplace. The anonymity of the Google Form eliminates direct preventable privacy risks, although it still is at the mercy of third party onlookers (for example, if an employee completing the survey at work was noticed by a coworker/employer). No directly identifiable data was collected from the survey—no questions regarding company, name, or contact information. Indirect identifiable information collected includes age and general geographical location (country and state/territory if located in the US), which cannot be narrowed down to individual specific levels.\n",
    "\n",
    "There are, however, biases associated with the research. Because the data was self-reported, the survey allowed for potentially invalid and falsified pieces of information, particularly with the open ended questions (such as age and gender). While wrangling and cleaning the data, we are able to remove/substitute the obviously fake information, but otherwise it is difficult to draw conclusions about whether the rest of the responses are forged.\n",
    "\n",
    "As the research was conducted online, there is the potential for falsified data via bots as well. Additionally, there are significantly more male-identifying respondents compared to female and nonbinary/genderqueer respondents, which may result in poor representation due to low coverage. However, it must be acknowledged that the technology industry is male dominated, which can explain the gap in representation.\n"
   ]
  },
  {
   "cell_type": "markdown",
   "metadata": {},
   "source": [
    "# Team Expectations "
   ]
  },
  {
   "cell_type": "markdown",
   "metadata": {},
   "source": [
    "\n",
    "\n",
    "---\n",
    "\n",
    "* Be respectful of the deadlines the team sets and complete assigned work on time.\n",
    "* Attend meetings and collaborate with teammates \n",
    "* Respond in a timely manner\n",
    "* If conflicts arise, openly communicate with one another and resolve the issue respectfully\n",
    "\n",
    "---\n"
   ]
  },
  {
   "cell_type": "markdown",
   "metadata": {},
   "source": [
    "# Project Timeline Proposal"
   ]
  },
  {
   "cell_type": "markdown",
   "metadata": {},
   "source": [
    "\n",
    "\n",
    "\n",
    "| Meeting Date  | Meeting Time| Completed Before Meeting  | Discuss at Meeting |\n",
    "|---|---|---|---|\n",
    "| 3/2  |  2 PM | Read & Think about COGS 108 expectations; brainstorm topics/questions  | Determine best form of communication; Discuss and decide on final project topic; discuss hypothesis; begin background research | \n",
    "| 3/2  |  2 PM |  Do background research on topic | Discuss ideal dataset(s) and ethics; draft project proposal | \n",
    "| 3/2  | 2 PM  | Edit, finalize, and submit proposal; Search for datasets  | Discuss Wrangling and possible analytical approaches; Assign group members to lead each specific part   |\n",
    "| 3/9  | 2 PM  | Import & Wrangle Data ; EDA  | Review/Edit wrangling/EDA; Discuss Analysis Plan   |\n",
    "| 3/13  | 12 PM  | Finalize wrangling/EDA; Begin Analysis  | Discuss/edit Analysis; Complete project check-in |\n",
    "| 3/17  | 12 PM  | Complete analysis; Draft results/conclusion/discussion | Discuss/edit full project |\n",
    "| 3/24  | Before 11:59 PM  | NA | Turn in Final Project & Group Project Surveys |"
   ]
  },
  {
   "cell_type": "code",
   "execution_count": null,
   "metadata": {},
   "outputs": [],
   "source": []
  }
 ],
 "metadata": {
  "kernelspec": {
   "display_name": "Python 3 (ipykernel)",
   "language": "python",
   "name": "python3"
  },
  "language_info": {
   "codemirror_mode": {
    "name": "ipython",
    "version": 3
   },
   "file_extension": ".py",
   "mimetype": "text/x-python",
   "name": "python",
   "nbconvert_exporter": "python",
   "pygments_lexer": "ipython3",
   "version": "3.9.13"
  }
 },
 "nbformat": 4,
 "nbformat_minor": 2
}
